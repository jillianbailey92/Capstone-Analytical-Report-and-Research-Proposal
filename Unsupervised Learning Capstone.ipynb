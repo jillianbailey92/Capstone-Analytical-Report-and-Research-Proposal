{
 "cells": [
  {
   "cell_type": "markdown",
   "metadata": {},
   "source": [
    "# ArXiv Topic Clustering - Unsupervised Learning Capstone #\n",
    "\n",
    "### Table of Contents ###\n",
    "[1. Overview](#Overview)<br/>\n",
    "[2. Importing Modules and Reading the Dataset](#importing-modules-and-reading-the-dataset)<br/>\n",
    "[3. Data Cleaning and Exploration](#data-cleaning-and-exploration)<br/>\n",
    "[4. Text Preprocessing - Tokenization and Parsing](#text-preprocessing)<br/>\n",
    "[5. Train/Test Split](#train/test-split)<br/>\n",
    "[6. Feature Selection - Truncated SVD](#truncatedsvd)<br/>\n",
    "[7. Building Cluster Models](#building-cluster-models)<br/>\n",
    "&nbsp;&nbsp;&nbsp;&nbsp;&nbsp;&nbsp;[a. K-Means Clustering](#kmeans)<br/>\n",
    "&nbsp;&nbsp;&nbsp;&nbsp;&nbsp;&nbsp;[b. DBSCAN (Density-based Spatial Clustering of Applications with Noise)](#dbscan)<br/>\n",
    "&nbsp;&nbsp;&nbsp;&nbsp;&nbsp;&nbsp;[c. Gaussian Mixture Model (GMM) Clustering](#gmm)<br/>\n",
    "[8. Analysis](#Analysis)<br/>\n",
    "[9. Conclusion](#Conclusion)<br/>\n",
    "[10. Next Steps](#next-steps)<br/>"
   ]
  },
  {
   "cell_type": "markdown",
   "metadata": {},
   "source": [
    "### Overview ###\n",
    "\n",
    "ArXiv is a repository consisting of over 1.5 million scientific papers in fields such as mathematics, computer science, and physics. It is owned and operated by Cornell University.\n",
    "\n",
    "This capstone will explore the use of different clustering methods to predict the topic of each paper. I will be attempting to use K-Means, DBSCAN (Density-based Spatial Clustering of Applications with Noise), and the Gaussian Mixture Model."
   ]
  },
  {
   "cell_type": "markdown",
   "metadata": {},
   "source": [
    "<a name=\"importing-modules-and-reading-the-dataset\"></a>\n",
    "### Importing Modules and Reading the Dataset ###"
   ]
  },
  {
   "cell_type": "code",
   "execution_count": 1,
   "metadata": {},
   "outputs": [],
   "source": [
    "import pandas as pd\n",
    "import numpy as np\n",
    "import arxiv\n",
    "import spacy\n",
    "import matplotlib.pyplot as plt\n",
    "import seaborn as sns\n",
    "%matplotlib inline\n",
    "import warnings\n",
    "warnings.filterwarnings('ignore')\n",
    "\n",
    "nlp = spacy.load(\"en_core_web_md\")"
   ]
  },
  {
   "cell_type": "code",
   "execution_count": 2,
   "metadata": {},
   "outputs": [],
   "source": [
    "result = arxiv.query(\"all\",max_results=100000)\n",
    "\n",
    "df = pd.DataFrame(result)"
   ]
  },
  {
   "cell_type": "markdown",
   "metadata": {},
   "source": [
    "There are many different topics discussed in the arXiv scientific papers. I will be focusing solely on mathematics, computer science, and physics. As such I have imported 100,000 papers so I will be able to grab only 1000 of each topic."
   ]
  },
  {
   "cell_type": "code",
   "execution_count": 3,
   "metadata": {},
   "outputs": [
    {
     "data": {
      "text/html": [
       "<div>\n",
       "<style scoped>\n",
       "    .dataframe tbody tr th:only-of-type {\n",
       "        vertical-align: middle;\n",
       "    }\n",
       "\n",
       "    .dataframe tbody tr th {\n",
       "        vertical-align: top;\n",
       "    }\n",
       "\n",
       "    .dataframe thead th {\n",
       "        text-align: right;\n",
       "    }\n",
       "</style>\n",
       "<table border=\"1\" class=\"dataframe\">\n",
       "  <thead>\n",
       "    <tr style=\"text-align: right;\">\n",
       "      <th></th>\n",
       "      <th>affiliation</th>\n",
       "      <th>arxiv_comment</th>\n",
       "      <th>arxiv_primary_category</th>\n",
       "      <th>arxiv_url</th>\n",
       "      <th>author</th>\n",
       "      <th>author_detail</th>\n",
       "      <th>authors</th>\n",
       "      <th>doi</th>\n",
       "      <th>guidislink</th>\n",
       "      <th>id</th>\n",
       "      <th>...</th>\n",
       "      <th>pdf_url</th>\n",
       "      <th>published</th>\n",
       "      <th>published_parsed</th>\n",
       "      <th>summary</th>\n",
       "      <th>summary_detail</th>\n",
       "      <th>tags</th>\n",
       "      <th>title</th>\n",
       "      <th>title_detail</th>\n",
       "      <th>updated</th>\n",
       "      <th>updated_parsed</th>\n",
       "    </tr>\n",
       "  </thead>\n",
       "  <tbody>\n",
       "    <tr>\n",
       "      <th>0</th>\n",
       "      <td>None</td>\n",
       "      <td>None</td>\n",
       "      <td>{'term': 'math.NA', 'scheme': 'http://arxiv.or...</td>\n",
       "      <td>http://arxiv.org/abs/1210.7708v1</td>\n",
       "      <td>Alexei Shadrin</td>\n",
       "      <td>{'name': 'Alexei Shadrin'}</td>\n",
       "      <td>[Alexei Shadrin]</td>\n",
       "      <td>None</td>\n",
       "      <td>True</td>\n",
       "      <td>http://arxiv.org/abs/1210.7708v1</td>\n",
       "      <td>...</td>\n",
       "      <td>http://arxiv.org/pdf/1210.7708v1</td>\n",
       "      <td>2012-10-29T16:12:41Z</td>\n",
       "      <td>(2012, 10, 29, 16, 12, 41, 0, 303, 0)</td>\n",
       "      <td>The Landau-Kolmogorov problem consists of find...</td>\n",
       "      <td>{'type': 'text/plain', 'language': None, 'base...</td>\n",
       "      <td>[{'term': 'math.NA', 'scheme': 'http://arxiv.o...</td>\n",
       "      <td>Landau--Kolmogorov inequality revisited</td>\n",
       "      <td>{'type': 'text/plain', 'language': None, 'base...</td>\n",
       "      <td>2012-10-29T16:12:41Z</td>\n",
       "      <td>(2012, 10, 29, 16, 12, 41, 0, 303, 0)</td>\n",
       "    </tr>\n",
       "    <tr>\n",
       "      <th>1</th>\n",
       "      <td>None</td>\n",
       "      <td>23 pages, 7 figures</td>\n",
       "      <td>{'term': 'cond-mat.mtrl-sci', 'scheme': 'http:...</td>\n",
       "      <td>http://arxiv.org/abs/1602.00450v1</td>\n",
       "      <td>M. Kawasaki</td>\n",
       "      <td>{'name': 'M. Kawasaki'}</td>\n",
       "      <td>[T. C. Fujita, M. Uchida, Y. Kozuka, W. Sano, ...</td>\n",
       "      <td>10.1103/PhysRevB.93.064419</td>\n",
       "      <td>True</td>\n",
       "      <td>http://arxiv.org/abs/1602.00450v1</td>\n",
       "      <td>...</td>\n",
       "      <td>http://arxiv.org/pdf/1602.00450v1</td>\n",
       "      <td>2016-02-01T09:53:30Z</td>\n",
       "      <td>(2016, 2, 1, 9, 53, 30, 0, 32, 0)</td>\n",
       "      <td>Pyrochlore oxides possessing \"all-in-all-out\" ...</td>\n",
       "      <td>{'type': 'text/plain', 'language': None, 'base...</td>\n",
       "      <td>[{'term': 'cond-mat.mtrl-sci', 'scheme': 'http...</td>\n",
       "      <td>All-in-all-out magnetic domain wall conduction...</td>\n",
       "      <td>{'type': 'text/plain', 'language': None, 'base...</td>\n",
       "      <td>2016-02-01T09:53:30Z</td>\n",
       "      <td>(2016, 2, 1, 9, 53, 30, 0, 32, 0)</td>\n",
       "    </tr>\n",
       "    <tr>\n",
       "      <th>2</th>\n",
       "      <td>None</td>\n",
       "      <td>None</td>\n",
       "      <td>{'term': 'cs.DC', 'scheme': 'http://arxiv.org/...</td>\n",
       "      <td>http://arxiv.org/abs/1612.01842v2</td>\n",
       "      <td>Zaid Hussain</td>\n",
       "      <td>{'name': 'Zaid Hussain'}</td>\n",
       "      <td>[Zaid Hussain]</td>\n",
       "      <td>None</td>\n",
       "      <td>True</td>\n",
       "      <td>http://arxiv.org/abs/1612.01842v2</td>\n",
       "      <td>...</td>\n",
       "      <td>http://arxiv.org/pdf/1612.01842v2</td>\n",
       "      <td>2016-12-06T15:01:47Z</td>\n",
       "      <td>(2016, 12, 6, 15, 1, 47, 1, 341, 0)</td>\n",
       "      <td>Recently, a higher dimensional Eisenstein-Jaco...</td>\n",
       "      <td>{'type': 'text/plain', 'language': None, 'base...</td>\n",
       "      <td>[{'term': 'cs.DC', 'scheme': 'http://arxiv.org...</td>\n",
       "      <td>An Improved One-to-All Broadcasting in Higher ...</td>\n",
       "      <td>{'type': 'text/plain', 'language': None, 'base...</td>\n",
       "      <td>2016-12-07T06:10:53Z</td>\n",
       "      <td>(2016, 12, 7, 6, 10, 53, 2, 342, 0)</td>\n",
       "    </tr>\n",
       "    <tr>\n",
       "      <th>3</th>\n",
       "      <td>None</td>\n",
       "      <td>33 pages, 18 figures</td>\n",
       "      <td>{'term': 'math.CO', 'scheme': 'http://arxiv.or...</td>\n",
       "      <td>http://arxiv.org/abs/0705.3599v1</td>\n",
       "      <td>Chris Smyth</td>\n",
       "      <td>{'name': 'Chris Smyth'}</td>\n",
       "      <td>[James McKee, Chris Smyth]</td>\n",
       "      <td>None</td>\n",
       "      <td>True</td>\n",
       "      <td>http://arxiv.org/abs/0705.3599v1</td>\n",
       "      <td>...</td>\n",
       "      <td>http://arxiv.org/pdf/0705.3599v1</td>\n",
       "      <td>2007-05-24T15:45:39Z</td>\n",
       "      <td>(2007, 5, 24, 15, 45, 39, 3, 144, 0)</td>\n",
       "      <td>We completely describe all integer symmetric m...</td>\n",
       "      <td>{'type': 'text/plain', 'language': None, 'base...</td>\n",
       "      <td>[{'term': 'math.CO', 'scheme': 'http://arxiv.o...</td>\n",
       "      <td>Integer symmetric matrices having all their ei...</td>\n",
       "      <td>{'type': 'text/plain', 'language': None, 'base...</td>\n",
       "      <td>2007-05-24T15:45:39Z</td>\n",
       "      <td>(2007, 5, 24, 15, 45, 39, 3, 144, 0)</td>\n",
       "    </tr>\n",
       "    <tr>\n",
       "      <th>4</th>\n",
       "      <td>None</td>\n",
       "      <td>10 pages, Journal \"Algebra and Discrete Mathem...</td>\n",
       "      <td>{'term': 'math.RA', 'scheme': 'http://arxiv.or...</td>\n",
       "      <td>http://arxiv.org/abs/0811.3325v1</td>\n",
       "      <td>Slavcho Shtrakov</td>\n",
       "      <td>{'name': 'Slavcho Shtrakov'}</td>\n",
       "      <td>[Jorg Koppitz, Slavcho Shtrakov]</td>\n",
       "      <td>None</td>\n",
       "      <td>True</td>\n",
       "      <td>http://arxiv.org/abs/0811.3325v1</td>\n",
       "      <td>...</td>\n",
       "      <td>http://arxiv.org/pdf/0811.3325v1</td>\n",
       "      <td>2008-11-20T12:28:46Z</td>\n",
       "      <td>(2008, 11, 20, 12, 28, 46, 3, 325, 0)</td>\n",
       "      <td>The extensions of hypersubstitutions are mappi...</td>\n",
       "      <td>{'type': 'text/plain', 'language': None, 'base...</td>\n",
       "      <td>[{'term': 'math.RA', 'scheme': 'http://arxiv.o...</td>\n",
       "      <td>On mappings of terms determined by hypersubsti...</td>\n",
       "      <td>{'type': 'text/plain', 'language': None, 'base...</td>\n",
       "      <td>2008-11-20T12:28:46Z</td>\n",
       "      <td>(2008, 11, 20, 12, 28, 46, 3, 325, 0)</td>\n",
       "    </tr>\n",
       "  </tbody>\n",
       "</table>\n",
       "<p>5 rows × 22 columns</p>\n",
       "</div>"
      ],
      "text/plain": [
       "  affiliation                                      arxiv_comment  \\\n",
       "0        None                                               None   \n",
       "1        None                                23 pages, 7 figures   \n",
       "2        None                                               None   \n",
       "3        None                               33 pages, 18 figures   \n",
       "4        None  10 pages, Journal \"Algebra and Discrete Mathem...   \n",
       "\n",
       "                              arxiv_primary_category  \\\n",
       "0  {'term': 'math.NA', 'scheme': 'http://arxiv.or...   \n",
       "1  {'term': 'cond-mat.mtrl-sci', 'scheme': 'http:...   \n",
       "2  {'term': 'cs.DC', 'scheme': 'http://arxiv.org/...   \n",
       "3  {'term': 'math.CO', 'scheme': 'http://arxiv.or...   \n",
       "4  {'term': 'math.RA', 'scheme': 'http://arxiv.or...   \n",
       "\n",
       "                           arxiv_url            author  \\\n",
       "0   http://arxiv.org/abs/1210.7708v1    Alexei Shadrin   \n",
       "1  http://arxiv.org/abs/1602.00450v1       M. Kawasaki   \n",
       "2  http://arxiv.org/abs/1612.01842v2      Zaid Hussain   \n",
       "3   http://arxiv.org/abs/0705.3599v1       Chris Smyth   \n",
       "4   http://arxiv.org/abs/0811.3325v1  Slavcho Shtrakov   \n",
       "\n",
       "                  author_detail  \\\n",
       "0    {'name': 'Alexei Shadrin'}   \n",
       "1       {'name': 'M. Kawasaki'}   \n",
       "2      {'name': 'Zaid Hussain'}   \n",
       "3       {'name': 'Chris Smyth'}   \n",
       "4  {'name': 'Slavcho Shtrakov'}   \n",
       "\n",
       "                                             authors  \\\n",
       "0                                   [Alexei Shadrin]   \n",
       "1  [T. C. Fujita, M. Uchida, Y. Kozuka, W. Sano, ...   \n",
       "2                                     [Zaid Hussain]   \n",
       "3                         [James McKee, Chris Smyth]   \n",
       "4                   [Jorg Koppitz, Slavcho Shtrakov]   \n",
       "\n",
       "                          doi  guidislink                                 id  \\\n",
       "0                        None        True   http://arxiv.org/abs/1210.7708v1   \n",
       "1  10.1103/PhysRevB.93.064419        True  http://arxiv.org/abs/1602.00450v1   \n",
       "2                        None        True  http://arxiv.org/abs/1612.01842v2   \n",
       "3                        None        True   http://arxiv.org/abs/0705.3599v1   \n",
       "4                        None        True   http://arxiv.org/abs/0811.3325v1   \n",
       "\n",
       "                   ...                                              pdf_url  \\\n",
       "0                  ...                     http://arxiv.org/pdf/1210.7708v1   \n",
       "1                  ...                    http://arxiv.org/pdf/1602.00450v1   \n",
       "2                  ...                    http://arxiv.org/pdf/1612.01842v2   \n",
       "3                  ...                     http://arxiv.org/pdf/0705.3599v1   \n",
       "4                  ...                     http://arxiv.org/pdf/0811.3325v1   \n",
       "\n",
       "              published                       published_parsed  \\\n",
       "0  2012-10-29T16:12:41Z  (2012, 10, 29, 16, 12, 41, 0, 303, 0)   \n",
       "1  2016-02-01T09:53:30Z      (2016, 2, 1, 9, 53, 30, 0, 32, 0)   \n",
       "2  2016-12-06T15:01:47Z    (2016, 12, 6, 15, 1, 47, 1, 341, 0)   \n",
       "3  2007-05-24T15:45:39Z   (2007, 5, 24, 15, 45, 39, 3, 144, 0)   \n",
       "4  2008-11-20T12:28:46Z  (2008, 11, 20, 12, 28, 46, 3, 325, 0)   \n",
       "\n",
       "                                             summary  \\\n",
       "0  The Landau-Kolmogorov problem consists of find...   \n",
       "1  Pyrochlore oxides possessing \"all-in-all-out\" ...   \n",
       "2  Recently, a higher dimensional Eisenstein-Jaco...   \n",
       "3  We completely describe all integer symmetric m...   \n",
       "4  The extensions of hypersubstitutions are mappi...   \n",
       "\n",
       "                                      summary_detail  \\\n",
       "0  {'type': 'text/plain', 'language': None, 'base...   \n",
       "1  {'type': 'text/plain', 'language': None, 'base...   \n",
       "2  {'type': 'text/plain', 'language': None, 'base...   \n",
       "3  {'type': 'text/plain', 'language': None, 'base...   \n",
       "4  {'type': 'text/plain', 'language': None, 'base...   \n",
       "\n",
       "                                                tags  \\\n",
       "0  [{'term': 'math.NA', 'scheme': 'http://arxiv.o...   \n",
       "1  [{'term': 'cond-mat.mtrl-sci', 'scheme': 'http...   \n",
       "2  [{'term': 'cs.DC', 'scheme': 'http://arxiv.org...   \n",
       "3  [{'term': 'math.CO', 'scheme': 'http://arxiv.o...   \n",
       "4  [{'term': 'math.RA', 'scheme': 'http://arxiv.o...   \n",
       "\n",
       "                                               title  \\\n",
       "0            Landau--Kolmogorov inequality revisited   \n",
       "1  All-in-all-out magnetic domain wall conduction...   \n",
       "2  An Improved One-to-All Broadcasting in Higher ...   \n",
       "3  Integer symmetric matrices having all their ei...   \n",
       "4  On mappings of terms determined by hypersubsti...   \n",
       "\n",
       "                                        title_detail               updated  \\\n",
       "0  {'type': 'text/plain', 'language': None, 'base...  2012-10-29T16:12:41Z   \n",
       "1  {'type': 'text/plain', 'language': None, 'base...  2016-02-01T09:53:30Z   \n",
       "2  {'type': 'text/plain', 'language': None, 'base...  2016-12-07T06:10:53Z   \n",
       "3  {'type': 'text/plain', 'language': None, 'base...  2007-05-24T15:45:39Z   \n",
       "4  {'type': 'text/plain', 'language': None, 'base...  2008-11-20T12:28:46Z   \n",
       "\n",
       "                          updated_parsed  \n",
       "0  (2012, 10, 29, 16, 12, 41, 0, 303, 0)  \n",
       "1      (2016, 2, 1, 9, 53, 30, 0, 32, 0)  \n",
       "2    (2016, 12, 7, 6, 10, 53, 2, 342, 0)  \n",
       "3   (2007, 5, 24, 15, 45, 39, 3, 144, 0)  \n",
       "4  (2008, 11, 20, 12, 28, 46, 3, 325, 0)  \n",
       "\n",
       "[5 rows x 22 columns]"
      ]
     },
     "execution_count": 3,
     "metadata": {},
     "output_type": "execute_result"
    }
   ],
   "source": [
    "df.head()"
   ]
  },
  {
   "cell_type": "markdown",
   "metadata": {},
   "source": [
    "<a name=\"data-cleaning-and-exploration\"></a>\n",
    "### Data Cleaning and Exploration ###"
   ]
  },
  {
   "cell_type": "code",
   "execution_count": 4,
   "metadata": {},
   "outputs": [
    {
     "data": {
      "text/plain": [
       "Index(['affiliation', 'arxiv_comment', 'arxiv_primary_category', 'arxiv_url',\n",
       "       'author', 'author_detail', 'authors', 'doi', 'guidislink', 'id',\n",
       "       'journal_reference', 'links', 'pdf_url', 'published',\n",
       "       'published_parsed', 'summary', 'summary_detail', 'tags', 'title',\n",
       "       'title_detail', 'updated', 'updated_parsed'],\n",
       "      dtype='object')"
      ]
     },
     "execution_count": 4,
     "metadata": {},
     "output_type": "execute_result"
    }
   ],
   "source": [
    "df.columns"
   ]
  },
  {
   "cell_type": "markdown",
   "metadata": {},
   "source": [
    "As seen above, there are many features in this dataset. To predict the topic, I will only be using the text in the summary and title. All of the other features will not be beneficial to the clustering models. Below, I have added a feature \"text\" that is the concatenation of the summary and title. And I have dropped all of the other features."
   ]
  },
  {
   "cell_type": "code",
   "execution_count": 5,
   "metadata": {},
   "outputs": [],
   "source": [
    "df['text'] = df['summary'] + \" \" + df['title']\n",
    "df = df.drop(columns=['affiliation','arxiv_comment','arxiv_url',\n",
    "                     'author_detail','doi','guidislink','id',\n",
    "                     'pdf_url','links','published','summary_detail',\n",
    "                     'title_detail','updated','updated_parsed',\n",
    "                     'journal_reference','tags','author','authors',\n",
    "                     'published_parsed','summary','title'])"
   ]
  },
  {
   "cell_type": "code",
   "execution_count": 6,
   "metadata": {},
   "outputs": [],
   "source": [
    "df['length'] = df['text'].apply(len)"
   ]
  },
  {
   "cell_type": "code",
   "execution_count": 7,
   "metadata": {},
   "outputs": [
    {
     "data": {
      "text/html": [
       "<div>\n",
       "<style scoped>\n",
       "    .dataframe tbody tr th:only-of-type {\n",
       "        vertical-align: middle;\n",
       "    }\n",
       "\n",
       "    .dataframe tbody tr th {\n",
       "        vertical-align: top;\n",
       "    }\n",
       "\n",
       "    .dataframe thead th {\n",
       "        text-align: right;\n",
       "    }\n",
       "</style>\n",
       "<table border=\"1\" class=\"dataframe\">\n",
       "  <thead>\n",
       "    <tr style=\"text-align: right;\">\n",
       "      <th></th>\n",
       "      <th>arxiv_primary_category</th>\n",
       "      <th>text</th>\n",
       "      <th>length</th>\n",
       "    </tr>\n",
       "  </thead>\n",
       "  <tbody>\n",
       "    <tr>\n",
       "      <th>0</th>\n",
       "      <td>{'term': 'math.NA', 'scheme': 'http://arxiv.or...</td>\n",
       "      <td>The Landau-Kolmogorov problem consists of find...</td>\n",
       "      <td>1228</td>\n",
       "    </tr>\n",
       "    <tr>\n",
       "      <th>1</th>\n",
       "      <td>{'term': 'cond-mat.mtrl-sci', 'scheme': 'http:...</td>\n",
       "      <td>Pyrochlore oxides possessing \"all-in-all-out\" ...</td>\n",
       "      <td>992</td>\n",
       "    </tr>\n",
       "    <tr>\n",
       "      <th>2</th>\n",
       "      <td>{'term': 'cs.DC', 'scheme': 'http://arxiv.org/...</td>\n",
       "      <td>Recently, a higher dimensional Eisenstein-Jaco...</td>\n",
       "      <td>1223</td>\n",
       "    </tr>\n",
       "    <tr>\n",
       "      <th>3</th>\n",
       "      <td>{'term': 'math.CO', 'scheme': 'http://arxiv.or...</td>\n",
       "      <td>We completely describe all integer symmetric m...</td>\n",
       "      <td>499</td>\n",
       "    </tr>\n",
       "    <tr>\n",
       "      <th>4</th>\n",
       "      <td>{'term': 'math.RA', 'scheme': 'http://arxiv.or...</td>\n",
       "      <td>The extensions of hypersubstitutions are mappi...</td>\n",
       "      <td>513</td>\n",
       "    </tr>\n",
       "  </tbody>\n",
       "</table>\n",
       "</div>"
      ],
      "text/plain": [
       "                              arxiv_primary_category  \\\n",
       "0  {'term': 'math.NA', 'scheme': 'http://arxiv.or...   \n",
       "1  {'term': 'cond-mat.mtrl-sci', 'scheme': 'http:...   \n",
       "2  {'term': 'cs.DC', 'scheme': 'http://arxiv.org/...   \n",
       "3  {'term': 'math.CO', 'scheme': 'http://arxiv.or...   \n",
       "4  {'term': 'math.RA', 'scheme': 'http://arxiv.or...   \n",
       "\n",
       "                                                text  length  \n",
       "0  The Landau-Kolmogorov problem consists of find...    1228  \n",
       "1  Pyrochlore oxides possessing \"all-in-all-out\" ...     992  \n",
       "2  Recently, a higher dimensional Eisenstein-Jaco...    1223  \n",
       "3  We completely describe all integer symmetric m...     499  \n",
       "4  The extensions of hypersubstitutions are mappi...     513  "
      ]
     },
     "execution_count": 7,
     "metadata": {},
     "output_type": "execute_result"
    }
   ],
   "source": [
    "df.head()"
   ]
  },
  {
   "cell_type": "markdown",
   "metadata": {},
   "source": [
    "I will be utilizing the \"arxiv_primary_category\" feature as my outcome variable. However the dataset's version of the feature is too complex. Below, I strip down each primary category."
   ]
  },
  {
   "cell_type": "code",
   "execution_count": 8,
   "metadata": {},
   "outputs": [],
   "source": [
    "df['arxiv_primary_category'] = df['arxiv_primary_category'].astype(str).str.replace('{\\'term\\': \\'','').str.replace(r'\\.(.*)','').str.replace(r'\\',(.*)','')"
   ]
  },
  {
   "cell_type": "code",
   "execution_count": 9,
   "metadata": {},
   "outputs": [
    {
     "data": {
      "text/plain": [
       "array(['math', 'cond-mat', 'cs', 'astro-ph', 'hep-th', 'physics',\n",
       "       'quant-ph', 'dg-ga', 'hep-ph', 'hep-lat', 'math-ph', 'stat',\n",
       "       'q-bio', 'q-alg', 'gr-qc', 'alg-geom', 'q-fin', 'hep-ex', 'nlin',\n",
       "       'nucl-th', 'econ', 'nucl-ex', 'acc-phys', 'chao-dyn', 'chem-ph',\n",
       "       'cmp-lg', 'funct-an', 'mtrl-th', 'solv-int', 'eess'], dtype=object)"
      ]
     },
     "execution_count": 9,
     "metadata": {},
     "output_type": "execute_result"
    }
   ],
   "source": [
    "df['arxiv_primary_category'].unique()"
   ]
  },
  {
   "cell_type": "markdown",
   "metadata": {},
   "source": [
    "With the categories stripped down there are much fewer unique outcomes."
   ]
  },
  {
   "cell_type": "code",
   "execution_count": 10,
   "metadata": {},
   "outputs": [
    {
     "data": {
      "text/plain": [
       "math        4359\n",
       "cs           657\n",
       "hep-th       536\n",
       "cond-mat     401\n",
       "quant-ph     376\n",
       "physics      322\n",
       "hep-ph       322\n",
       "astro-ph     270\n",
       "math-ph      180\n",
       "gr-qc        162\n",
       "hep-lat       89\n",
       "nlin          73\n",
       "nucl-th       47\n",
       "q-bio         44\n",
       "stat          37\n",
       "hep-ex        30\n",
       "alg-geom      20\n",
       "q-alg         18\n",
       "q-fin         16\n",
       "solv-int       8\n",
       "dg-ga          7\n",
       "chao-dyn       7\n",
       "funct-an       4\n",
       "nucl-ex        4\n",
       "econ           4\n",
       "eess           3\n",
       "mtrl-th        1\n",
       "chem-ph        1\n",
       "cmp-lg         1\n",
       "acc-phys       1\n",
       "Name: arxiv_primary_category, dtype: int64"
      ]
     },
     "execution_count": 10,
     "metadata": {},
     "output_type": "execute_result"
    }
   ],
   "source": [
    "df['arxiv_primary_category'].value_counts()"
   ]
  },
  {
   "cell_type": "markdown",
   "metadata": {},
   "source": [
    "Here I am looking at the value counts so I can resample the topics I will be focusing on. Of the 100,000 papers I pulled, 4359 are mathematics, 657 are computer science, and 322 are physics. I will need to downsample the mathematics and upsample the computer science and physics."
   ]
  },
  {
   "cell_type": "code",
   "execution_count": 11,
   "metadata": {},
   "outputs": [],
   "source": [
    "df_math = df.loc[df['arxiv_primary_category'] == 'math']\n",
    "df_cs = df.loc[df['arxiv_primary_category'] == 'cs']\n",
    "df_physics = df.loc[df['arxiv_primary_category'] == 'physics']"
   ]
  },
  {
   "cell_type": "code",
   "execution_count": 12,
   "metadata": {},
   "outputs": [],
   "source": [
    "from sklearn.utils import resample\n",
    "\n",
    "df_math = resample(df_math, replace=False, n_samples=1000, random_state=123)\n",
    "df_cs = resample(df_cs, replace=True, n_samples=1000, random_state=123)\n",
    "df_physics = resample(df_physics, replace=True, n_samples=1000, random_state=123)\n",
    "\n",
    "df2 = pd.concat([df_math, df_cs, df_physics])"
   ]
  },
  {
   "cell_type": "code",
   "execution_count": 13,
   "metadata": {},
   "outputs": [
    {
     "data": {
      "image/png": "[encoded data removed]",
      "text/plain": [
       "<Figure size 432x288 with 1 Axes>"
      ]
     },
     "metadata": {
      "needs_background": "light"
     },
     "output_type": "display_data"
    }
   ],
   "source": [
    "ax = df2['arxiv_primary_category'].value_counts().plot(kind='bar',title='Counts of Primary Categories')\n",
    "ax.set_ylabel('Counts')\n",
    "ax.set_xlabel('Primary Categories');"
   ]
  },
  {
   "cell_type": "markdown",
   "metadata": {},
   "source": [
    "Now my new dataframe only consists of 1000 papers of each mathematics, computer science, and physics."
   ]
  },
  {
   "cell_type": "code",
   "execution_count": 14,
   "metadata": {},
   "outputs": [
    {
     "data": {
      "image/png": "[encoded data removed]",
      "text/plain": [
       "<Figure size 432x288 with 1 Axes>"
      ]
     },
     "metadata": {
      "needs_background": "light"
     },
     "output_type": "display_data"
    }
   ],
   "source": [
    "plt.hist(df2['length'],bins=20)\n",
    "plt.title('Distribution of the Length of Text')\n",
    "plt.ylabel('Numbers of Text')\n",
    "plt.xlabel('Length of Text');"
   ]
  },
  {
   "cell_type": "markdown",
   "metadata": {},
   "source": [
    "Above is a distribution of the length of each text. The distribution is very skewed to the right. This may become problematic as this suggests the majority of the texts are not very long."
   ]
  },
  {
   "cell_type": "markdown",
   "metadata": {},
   "source": [
    "<a name=\"text-preprocessing\"></a>\n",
    "### Text Preprocessing - Tokenization and Parsing ###"
   ]
  },
  {
   "cell_type": "code",
   "execution_count": 15,
   "metadata": {},
   "outputs": [],
   "source": [
    "tokens = []\n",
    "lemma = []\n",
    "pos = []\n",
    "\n",
    "for doc in nlp.pipe(df2['text'].astype('unicode').values, batch_size=50,\n",
    "                        n_threads=3):\n",
    "    if doc.is_parsed:\n",
    "        tokens.append([n.text for n in doc])\n",
    "        lemma.append([n.lemma_ for n in doc])\n",
    "        pos.append([n.pos_ for n in doc])\n",
    "    else:\n",
    "        tokens.append(None)\n",
    "        lemma.append(None)\n",
    "        pos.append(None)\n",
    "\n",
    "df2['tokens'] = tokens\n",
    "df2['lemma'] = lemma\n",
    "df2['pos'] = pos"
   ]
  },
  {
   "cell_type": "markdown",
   "metadata": {},
   "source": [
    "Here I am tokenizing and parsing the text in the \"text\" feature. This is adding 3 new columns of the tokens, lemmas, and parts of speech for each title and summary. As well as another feature \"text_parsed\" which contains the word vectors."
   ]
  },
  {
   "cell_type": "code",
   "execution_count": 16,
   "metadata": {},
   "outputs": [],
   "source": [
    "df2['text_parsed'] = df2['text'].apply(lambda x: nlp(x).vector)"
   ]
  },
  {
   "cell_type": "code",
   "execution_count": 17,
   "metadata": {},
   "outputs": [
    {
     "data": {
      "text/plain": [
       "arxiv_primary_category    0\n",
       "text                      0\n",
       "length                    0\n",
       "tokens                    0\n",
       "lemma                     0\n",
       "pos                       0\n",
       "text_parsed               0\n",
       "dtype: int64"
      ]
     },
     "execution_count": 17,
     "metadata": {},
     "output_type": "execute_result"
    }
   ],
   "source": [
    "df2.isnull().sum()"
   ]
  },
  {
   "cell_type": "markdown",
   "metadata": {},
   "source": [
    "There are no null values."
   ]
  },
  {
   "cell_type": "code",
   "execution_count": 18,
   "metadata": {},
   "outputs": [
    {
     "data": {
      "text/plain": [
       "arxiv_primary_category    object\n",
       "text                      object\n",
       "length                     int64\n",
       "tokens                    object\n",
       "lemma                     object\n",
       "pos                       object\n",
       "text_parsed               object\n",
       "dtype: object"
      ]
     },
     "execution_count": 18,
     "metadata": {},
     "output_type": "execute_result"
    }
   ],
   "source": [
    "df2.dtypes"
   ]
  },
  {
   "cell_type": "markdown",
   "metadata": {},
   "source": [
    "All of the features as well as the outcome variable are object types."
   ]
  },
  {
   "cell_type": "markdown",
   "metadata": {},
   "source": [
    "<a name=\"train/test-split\"></a>\n",
    "### Train/Test Split ###"
   ]
  },
  {
   "cell_type": "code",
   "execution_count": 19,
   "metadata": {},
   "outputs": [],
   "source": [
    "X = df2['text_parsed']\n",
    "y = df2.arxiv_primary_category"
   ]
  },
  {
   "cell_type": "markdown",
   "metadata": {},
   "source": [
    "I am assigning the parsed text feature to X and the primary category (the outcome variable) to y."
   ]
  },
  {
   "cell_type": "code",
   "execution_count": 20,
   "metadata": {},
   "outputs": [],
   "source": [
    "X_arrays = np.vstack(X.values)"
   ]
  },
  {
   "cell_type": "markdown",
   "metadata": {},
   "source": [
    "This is concatenating the word vectors into single arrays."
   ]
  },
  {
   "cell_type": "code",
   "execution_count": 21,
   "metadata": {},
   "outputs": [],
   "source": [
    "from sklearn.preprocessing import normalize\n",
    "X_norm = normalize(X_arrays)"
   ]
  },
  {
   "cell_type": "markdown",
   "metadata": {},
   "source": [
    "Next I normalized the X for the clustering models."
   ]
  },
  {
   "cell_type": "code",
   "execution_count": 22,
   "metadata": {},
   "outputs": [],
   "source": [
    "from sklearn.model_selection import train_test_split\n",
    "X_train, X_test, y_train, y_test = train_test_split(X_norm, y, test_size=0.25, random_state=111)"
   ]
  },
  {
   "cell_type": "markdown",
   "metadata": {},
   "source": [
    "I split my training and test sets as 75% and 25% respectively."
   ]
  },
  {
   "cell_type": "code",
   "execution_count": 23,
   "metadata": {},
   "outputs": [
    {
     "data": {
      "text/plain": [
       "(3000, 300)"
      ]
     },
     "execution_count": 23,
     "metadata": {},
     "output_type": "execute_result"
    }
   ],
   "source": [
    "X_norm.shape"
   ]
  },
  {
   "cell_type": "markdown",
   "metadata": {},
   "source": [
    "<a name=\"truncatedsvd\"></a>\n",
    "### Feature Selection - Truncated SVD ###"
   ]
  },
  {
   "cell_type": "code",
   "execution_count": 24,
   "metadata": {},
   "outputs": [
    {
     "name": "stdout",
     "output_type": "stream",
     "text": [
      "[0.00724199 0.18445656 0.10851406 0.07325787 0.04301357 0.03581863\n",
      " 0.02817157 0.02557249 0.02259977 0.02112401 0.01623097 0.01493102\n",
      " 0.01304254 0.01251824 0.01241077 0.01117041 0.00993868 0.00939514\n",
      " 0.00922559 0.00845329 0.00799768 0.00773701 0.00748289 0.00713867\n",
      " 0.0070263  0.00677979 0.00610622 0.00579862 0.00556604 0.00543871\n",
      " 0.00519577 0.00514317 0.005032   0.00483707 0.00467858 0.00439921\n",
      " 0.00422908 0.00410405 0.0040421  0.0039012  0.0038355  0.00374314\n",
      " 0.00368304 0.0035727  0.00352762 0.00337466 0.00331062 0.00324222\n",
      " 0.00310655 0.00306814 0.00302083 0.00297265 0.00280811 0.0027662\n",
      " 0.00270184 0.00267396 0.00258534 0.00256263 0.0025005  0.00244175\n",
      " 0.00238781 0.00234612 0.00232939 0.00227409 0.00221948 0.0022079\n",
      " 0.00211758 0.00208775 0.00207742 0.00202813 0.00197993 0.00192874\n",
      " 0.00190435 0.00186969 0.00184475 0.00182009 0.00179394 0.00172991\n",
      " 0.0017208  0.00170334 0.00163464 0.00162589 0.00158991 0.00156621\n",
      " 0.0015458  0.0015286  0.00151887 0.00149191 0.00148985 0.00146417\n",
      " 0.00142843 0.00139331 0.00136675 0.00136524 0.00132502 0.0013173\n",
      " 0.00128315 0.00124884 0.00121483 0.0012062 ]\n",
      "0.91019547\n"
     ]
    }
   ],
   "source": [
    "from sklearn.decomposition import TruncatedSVD\n",
    "from sklearn.pipeline import make_pipeline\n",
    "\n",
    "svd = TruncatedSVD(100)\n",
    "lsa = make_pipeline(svd)\n",
    "X_lsa = lsa.fit_transform(X_train)\n",
    "\n",
    "print(svd.explained_variance_ratio_)  \n",
    "print(svd.explained_variance_ratio_.sum())"
   ]
  },
  {
   "cell_type": "markdown",
   "metadata": {},
   "source": [
    "X originally had 300 features. I used Truncated SVD to reduce X down to 100 components which explains approximately 91% of the variance."
   ]
  },
  {
   "cell_type": "markdown",
   "metadata": {},
   "source": [
    "<a name=\"building-cluster-models\"></a>\n",
    "### Building Cluster Models ###\n",
    "\n",
    "As previously stated, this dataset will be used on 3 different types of clustering methods which are also of 3 different levels (hard to soft)."
   ]
  },
  {
   "cell_type": "markdown",
   "metadata": {},
   "source": [
    "<a name=\"kmeans\"></a>\n",
    "#### K-Means Clustering ####"
   ]
  },
  {
   "cell_type": "code",
   "execution_count": 25,
   "metadata": {},
   "outputs": [],
   "source": [
    "from sklearn.cluster import KMeans\n",
    "from sklearn.metrics import homogeneity_score\n",
    "\n",
    "km = KMeans(n_clusters=3, random_state=42)\n",
    "km.fit(X_lsa)\n",
    "y_pred = km.predict(X_lsa)"
   ]
  },
  {
   "cell_type": "markdown",
   "metadata": {},
   "source": [
    "First I try k-means clustering which is a type of hard clustering. With k-means, I define the number of clusters or centroids which is 3 for the number of topics I am focusing on. This model defaults to 10 times that the algorithm runs with different centroids and 300 iterations on a single run."
   ]
  },
  {
   "cell_type": "code",
   "execution_count": 26,
   "metadata": {},
   "outputs": [
    {
     "data": {
      "image/png": "[encoded data removed]",
      "text/plain": [
       "<Figure size 432x288 with 2 Axes>"
      ]
     },
     "metadata": {
      "needs_background": "light"
     },
     "output_type": "display_data"
    }
   ],
   "source": [
    "sns.heatmap(pd.crosstab(y_train, y_pred),cmap='Blues',annot=True,fmt=\"d\")\n",
    "plt.xlabel('Cluster')\n",
    "plt.ylabel('Primary Category')\n",
    "plt.title('Comparing K-Means Clusters Against the Data');"
   ]
  },
  {
   "cell_type": "code",
   "execution_count": 27,
   "metadata": {},
   "outputs": [
    {
     "name": "stdout",
     "output_type": "stream",
     "text": [
      "Homogeneity score: 0.247\n"
     ]
    }
   ],
   "source": [
    "scores = pd.DataFrame(data={'K-Means 3': [homogeneity_score(y_train, km.labels_)]})\n",
    "print(\"Homogeneity score: %0.3f\" % homogeneity_score(y_train, km.labels_))"
   ]
  },
  {
   "cell_type": "markdown",
   "metadata": {},
   "source": [
    "As seen above, this model does not do a great job of clustering the dataset for each topic. Cluster 0 has a majority of math papers, however there are also a number of computer science papers as well. Cluster 1 seems to be very physics focused (as seen later this is pretty consistent across all three models). Cluster 2 has a large number of each topic. The homogeneity score is very low with a 24.7% accuracy. The drawback for this clustering model in terms of the dataset is the assumption that the clusters are radially symmetrical and have similar variances.\n",
    "\n",
    "Below I will try running the model with 5 and 10 clusters to see any patterns with the data."
   ]
  },
  {
   "cell_type": "code",
   "execution_count": 28,
   "metadata": {},
   "outputs": [],
   "source": [
    "km = KMeans(n_clusters=5, random_state=42)\n",
    "km.fit(X_lsa)\n",
    "y_pred = km.predict(X_lsa)"
   ]
  },
  {
   "cell_type": "code",
   "execution_count": 29,
   "metadata": {},
   "outputs": [
    {
     "data": {
      "image/png": "[encoded data removed]",
      "text/plain": [
       "<Figure size 432x144 with 2 Axes>"
      ]
     },
     "metadata": {
      "needs_background": "light"
     },
     "output_type": "display_data"
    }
   ],
   "source": [
    "plt.figure(figsize=(6,2))\n",
    "sns.heatmap(pd.crosstab(y_train, y_pred),cmap='Blues',annot=True,fmt=\"d\")\n",
    "plt.xlabel('Cluster')\n",
    "plt.ylabel('Primary Category')\n",
    "plt.title('Comparing K-Means Clusters Against the Data');"
   ]
  },
  {
   "cell_type": "code",
   "execution_count": 30,
   "metadata": {},
   "outputs": [
    {
     "name": "stdout",
     "output_type": "stream",
     "text": [
      "Homogeneity score: 0.432\n"
     ]
    }
   ],
   "source": [
    "scores['K-Means 5'] = [homogeneity_score(y_train, km.labels_)]\n",
    "print(\"Homogeneity score: %0.3f\" % homogeneity_score(y_train, km.labels_))"
   ]
  },
  {
   "cell_type": "markdown",
   "metadata": {},
   "source": [
    "With 5 clusters the topics seem to do a better job of separating. Still a mix across all of the clusters however cluster 1 has a majority of math papers, cluster 2 and 4 have a majority of physics papers, and cluster 3 has a majority of computer science papers. Also the homogeneity score increased to 43.2% accuracy."
   ]
  },
  {
   "cell_type": "code",
   "execution_count": 31,
   "metadata": {},
   "outputs": [],
   "source": [
    "km = KMeans(n_clusters=10, random_state=42)\n",
    "km.fit(X_lsa)\n",
    "y_pred = km.predict(X_lsa)"
   ]
  },
  {
   "cell_type": "code",
   "execution_count": 32,
   "metadata": {},
   "outputs": [
    {
     "data": {
      "image/png": "[encoded data removed]",
      "text/plain": [
       "<Figure size 720x144 with 2 Axes>"
      ]
     },
     "metadata": {
      "needs_background": "light"
     },
     "output_type": "display_data"
    }
   ],
   "source": [
    "plt.figure(figsize=(10,2))\n",
    "sns.heatmap(pd.crosstab(y_train, y_pred),cmap='Blues',annot=True,fmt=\"d\")\n",
    "plt.xlabel('Cluster')\n",
    "plt.ylabel('Primary Category')\n",
    "plt.title('Comparing K-Means Clusters Against the Data');"
   ]
  },
  {
   "cell_type": "code",
   "execution_count": 33,
   "metadata": {},
   "outputs": [
    {
     "name": "stdout",
     "output_type": "stream",
     "text": [
      "Homogeneity score: 0.453\n"
     ]
    }
   ],
   "source": [
    "scores['K-Means 10'] = [homogeneity_score(y_train, km.labels_)]\n",
    "print(\"Homogeneity score: %0.3f\" % homogeneity_score(y_train, km.labels_))"
   ]
  },
  {
   "cell_type": "markdown",
   "metadata": {},
   "source": [
    "As the number of clusters increases to 10 the topics are doing an even better job of separating especially the physics papers. The homogeneity score increased slightly more to 45.3% accuracy."
   ]
  },
  {
   "cell_type": "markdown",
   "metadata": {},
   "source": [
    "<a name=\"dbscan\"></a>\n",
    "#### DBSCAN (Density-based Spatial Clustering of Applications with Noise) ####"
   ]
  },
  {
   "cell_type": "code",
   "execution_count": 34,
   "metadata": {},
   "outputs": [
    {
     "name": "stdout",
     "output_type": "stream",
     "text": [
      "Estimated number of clusters: 2\n",
      "Estimated number of noise points: 19\n"
     ]
    }
   ],
   "source": [
    "from sklearn.cluster import DBSCAN\n",
    "\n",
    "dbs = DBSCAN(eps=0.35, min_samples=3)\n",
    "dbs.fit(X_lsa)\n",
    "y_pred = dbs.fit_predict(X_lsa)\n",
    "\n",
    "n_clusters_ = len(set(dbs.labels_)) - (1 if -1 in dbs.labels_ else 0)\n",
    "n_noise_ = list(dbs.labels_).count(-1)\n",
    "print('Estimated number of clusters: %d' % n_clusters_)\n",
    "print('Estimated number of noise points: %d' % n_noise_)"
   ]
  },
  {
   "cell_type": "markdown",
   "metadata": {},
   "source": [
    "Next I try DBSCAN clustering which is still a type of hard clustering however unlike k-means the clusters can take arbitrary shapes. Also unlike k-means, I am unable to define the number of clusters. I tried a number of different combination of parameters in regards to the epsilon (maximum distance) and number of minimum points.\n",
    "\n",
    "* Low epsilon, high number of minimum points - results in 0 clusters and all datapoints become noise\n",
    "* Low epsilon, low number of minimum points - large number of clusters but vast majority of datapoints become noise\n",
    "* High epsilon, low number of minimum points - results in 1 cluster and no noise\n",
    "* High epsilon, high number of minimum points - results in 1 cluster and no noise\n",
    "\n",
    "After testing a few different combinations, an epsilon of 0.35 and a number of minimum points of 3 resulted in 2 clusters and minimal noise."
   ]
  },
  {
   "cell_type": "code",
   "execution_count": 35,
   "metadata": {},
   "outputs": [
    {
     "data": {
      "image/png": "[encoded data removed]",
      "text/plain": [
       "<Figure size 432x288 with 2 Axes>"
      ]
     },
     "metadata": {
      "needs_background": "light"
     },
     "output_type": "display_data"
    }
   ],
   "source": [
    "sns.heatmap(pd.crosstab(y_train, y_pred),cmap='Blues',annot=True,fmt='d')\n",
    "plt.xlabel('Cluster')\n",
    "plt.ylabel('Primary Category')\n",
    "plt.title('Comparing DBSCAN Clusters Against the Data');"
   ]
  },
  {
   "cell_type": "code",
   "execution_count": 36,
   "metadata": {},
   "outputs": [
    {
     "name": "stdout",
     "output_type": "stream",
     "text": [
      "Homogeneity score: 0.005\n"
     ]
    }
   ],
   "source": [
    "scores['DBSCAN'] = [homogeneity_score(y_train, dbs.labels_)]\n",
    "print(\"Homogeneity score: %0.3f\" % homogeneity_score(y_train, dbs.labels_))"
   ]
  },
  {
   "cell_type": "markdown",
   "metadata": {},
   "source": [
    "As seen above, this model also did not do a great job of clustering based on the different topics. Even though I was able to create more than one cluster and minimal noise after tuning the parameters, almost all of the datapoints ended up in cluster 0. Similarly to k-means, physics had the only datapoints that were assigned to a cluster outside of cluster 0. The homogeneity score is extremely low with a 0.5% accuracy. As this model relies on density, that suggests the dataset as a whole is very dense and thus the parameters are extremely sensitive either causing the datapoints to become one cluster or all noise. The drawbacks on this model are its sensitivity to the parameters and it struggles with high dimensionality."
   ]
  },
  {
   "cell_type": "markdown",
   "metadata": {},
   "source": [
    "<a name=\"gmm\"></a>\n",
    "#### Gaussian Mixture Model (GMM) Clustering ####"
   ]
  },
  {
   "cell_type": "code",
   "execution_count": 50,
   "metadata": {},
   "outputs": [],
   "source": [
    "from sklearn.mixture import GaussianMixture\n",
    "\n",
    "gm = GaussianMixture(n_components=3)\n",
    "gm.fit(X_lsa)\n",
    "y_pred = gm.predict(X_lsa)"
   ]
  },
  {
   "cell_type": "markdown",
   "metadata": {},
   "source": [
    "Lastly I try the Gaussian Mixture Model clustering which is a type of soft clustering. This type of clustering is very similar to k-means however, unlike k-means, it takes variance into consideration. The \"weighted\" distances may help with defining the clusters better. With this model, I was able to define the number of clusters to be 3 so the model knew to fit 3 Gaussians."
   ]
  },
  {
   "cell_type": "code",
   "execution_count": 51,
   "metadata": {},
   "outputs": [
    {
     "data": {
      "image/png": "[encoded data removed]",
      "text/plain": [
       "<Figure size 432x288 with 2 Axes>"
      ]
     },
     "metadata": {
      "needs_background": "light"
     },
     "output_type": "display_data"
    }
   ],
   "source": [
    "sns.heatmap(pd.crosstab(y_train, y_pred),cmap='Blues',annot=True,fmt=\"d\")\n",
    "plt.xlabel('Cluster')\n",
    "plt.ylabel('Primary Category')\n",
    "plt.title('Comparing Gaussian Mixture Model Clusters Against the Data');"
   ]
  },
  {
   "cell_type": "code",
   "execution_count": 52,
   "metadata": {},
   "outputs": [
    {
     "name": "stdout",
     "output_type": "stream",
     "text": [
      "Average score: 0.166\n"
     ]
    }
   ],
   "source": [
    "from sklearn.model_selection import cross_val_score\n",
    "scores['GMM 3'] = [cross_val_score(gm, X_lsa, y_pred, scoring='accuracy').mean()]\n",
    "print(\"Average score: %0.3f\" % scores['GMM 3'])"
   ]
  },
  {
   "cell_type": "markdown",
   "metadata": {},
   "source": [
    "The clusters created by this model are practically the same as the k-means clusters. Once again, physics is mainly focused in cluster 2 but there are a large number of each topic in cluster 1 and a large number of math and computer science in cluster 0. The average cross validation score was 16.6% accuracy. It appears that the variance did not help the clusters become more defined by each topic.\n",
    "\n",
    "As with k-means, below I will try running the model with 5 and 10 Gaussians to see any patterns with the data."
   ]
  },
  {
   "cell_type": "code",
   "execution_count": 53,
   "metadata": {},
   "outputs": [],
   "source": [
    "gm = GaussianMixture(n_components=5)\n",
    "gm.fit(X_lsa)\n",
    "y_pred = gm.predict(X_lsa)"
   ]
  },
  {
   "cell_type": "code",
   "execution_count": 54,
   "metadata": {},
   "outputs": [
    {
     "data": {
      "image/png": "[encoded data removed]",
      "text/plain": [
       "<Figure size 432x144 with 2 Axes>"
      ]
     },
     "metadata": {
      "needs_background": "light"
     },
     "output_type": "display_data"
    }
   ],
   "source": [
    "plt.figure(figsize=(6,2))\n",
    "sns.heatmap(pd.crosstab(y_train, y_pred),cmap='Blues',annot=True,fmt=\"d\")\n",
    "plt.xlabel('Cluster')\n",
    "plt.ylabel('Primary Category')\n",
    "plt.title('Comparing Gaussian Mixture Model Clusters Against the Data');"
   ]
  },
  {
   "cell_type": "code",
   "execution_count": 55,
   "metadata": {},
   "outputs": [
    {
     "name": "stdout",
     "output_type": "stream",
     "text": [
      "Average score: 0.283\n"
     ]
    }
   ],
   "source": [
    "scores['GMM 5'] = [cross_val_score(gm, X_lsa, y_pred, scoring='accuracy').mean()]\n",
    "print(\"Average score: %0.3f\" % scores['GMM 5'])"
   ]
  },
  {
   "cell_type": "markdown",
   "metadata": {},
   "source": [
    "With 5 Gaussians the topics do a better job of separating. Still a mix across all of the clusters however cluster 2 has a majority of math papers, cluster 0 has a majority of physics papers, and cluster 1 has a majority of computer science papers. Also the average cross validation score increased to 28.3% accuracy."
   ]
  },
  {
   "cell_type": "code",
   "execution_count": 56,
   "metadata": {},
   "outputs": [],
   "source": [
    "gm = GaussianMixture(n_components=10)\n",
    "gm.fit(X_lsa)\n",
    "y_pred = gm.predict(X_lsa)"
   ]
  },
  {
   "cell_type": "code",
   "execution_count": 57,
   "metadata": {},
   "outputs": [
    {
     "data": {
      "image/png": "[encoded data removed]",
      "text/plain": [
       "<Figure size 720x144 with 2 Axes>"
      ]
     },
     "metadata": {
      "needs_background": "light"
     },
     "output_type": "display_data"
    }
   ],
   "source": [
    "plt.figure(figsize=(10,2))\n",
    "sns.heatmap(pd.crosstab(y_train, y_pred),cmap='Blues',annot=True,fmt=\"d\")\n",
    "plt.xlabel('Cluster')\n",
    "plt.ylabel('Primary Category')\n",
    "plt.title('Comparing Gaussian Mixture Model Clusters Against the Data');"
   ]
  },
  {
   "cell_type": "code",
   "execution_count": 58,
   "metadata": {},
   "outputs": [
    {
     "name": "stdout",
     "output_type": "stream",
     "text": [
      "Average score: 0.141\n"
     ]
    }
   ],
   "source": [
    "scores['GMM 10'] = [cross_val_score(gm, X_lsa, y_pred, scoring='accuracy').mean()]\n",
    "print(\"Average score: %0.3f\" % scores['GMM 10'])"
   ]
  },
  {
   "cell_type": "markdown",
   "metadata": {},
   "source": [
    "With 10 Gaussians there was a little more divergence in the different topics. The average cross validation score decreased to 14.1% accuracy. The large differences between the average scores may suggest some overfitting in the model."
   ]
  },
  {
   "cell_type": "markdown",
   "metadata": {},
   "source": [
    "<a name=\"analysis\"></a>\n",
    "### Analysis ###"
   ]
  },
  {
   "cell_type": "code",
   "execution_count": 60,
   "metadata": {},
   "outputs": [
    {
     "data": {
      "image/png": "[encoded data removed]",
      "text/plain": [
       "<Figure size 432x288 with 1 Axes>"
      ]
     },
     "metadata": {
      "needs_background": "light"
     },
     "output_type": "display_data"
    }
   ],
   "source": [
    "plt.bar(scores.columns,scores.values.flatten())\n",
    "plt.ylim(0,1)\n",
    "plt.title('Accuracy Scores of Models')\n",
    "plt.xticks(rotation=45)\n",
    "plt.ylabel('Accuracy Scores')\n",
    "plt.xlabel('Models');"
   ]
  },
  {
   "cell_type": "markdown",
   "metadata": {},
   "source": [
    "The graph above shows the scores for each model. Overall, K-Means had the highest scores which increased with the number of clusters. DBSCAN was the worst model. It appears to be too sensitive for a textual dataset. The Gaussian Mixture Model's average cross validation scores were inconsistent suggesting there may be some overfitting."
   ]
  },
  {
   "cell_type": "markdown",
   "metadata": {},
   "source": [
    "### Conclusion ###\n",
    "\n",
    "In conclusion, the dataset appears to be quite dense and has difficulty clustering. The physics papers seem to be better at clustering from the math and computer science papers. I may be able to help diverge the different topics by using more word importance such as TF-IDF. Currently, physics may have more unique words than math and computer science.\n",
    "\n",
    "### Next Steps ###\n",
    "<a name=\"next-steps\"></a>\n",
    "\n",
    "* Topic Modeling Classifiers\n",
    "* Word Importance (TF-IDF)"
   ]
  }
 ],
 "metadata": {
  "kernelspec": {
   "display_name": "Python 3",
   "language": "python",
   "name": "python3"
  },
  "language_info": {
   "codemirror_mode": {
    "name": "ipython",
    "version": 3
   },
   "file_extension": ".py",
   "mimetype": "text/x-python",
   "name": "python",
   "nbconvert_exporter": "python",
   "pygments_lexer": "ipython3",
   "version": "3.7.1"
  }
 },
 "nbformat": 4,
 "nbformat_minor": 2
}
