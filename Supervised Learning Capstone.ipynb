{
 "cells": [
  {
   "cell_type": "markdown",
   "metadata": {},
   "source": [
    "# Supervised Learning Capstone #\n",
    "## Black Friday - Predicting How Much a Person Spends ##\n",
    "\n",
    "#### Overview ####\n",
    "This is a simulated dataset of sample transactions made at a retail store on Black Friday. The dataset was found on Kaggle at the following link.\n",
    "https://www.kaggle.com/mehdidag/black-friday\n",
    "\n",
    "#### Hypothesis ####\n",
    "I hypothesis that gender, marital status, and age will be the most important features to determine how much money a customer will spend on Black Friday. During my data exploration, as seen later, I noticed a major difference in the numbers of customers based on gender, marital status, and age, and so I believe that those more frequent of customers tend to spend more money than others."
   ]
  },
  {
   "cell_type": "code",
   "execution_count": 1,
   "metadata": {},
   "outputs": [],
   "source": [
    "import pandas as pd\n",
    "import numpy as np\n",
    "import matplotlib.pyplot as plt\n",
    "import seaborn as sns"
   ]
  },
  {
   "cell_type": "code",
   "execution_count": 2,
   "metadata": {},
   "outputs": [],
   "source": [
    "df = pd.read_csv('C:/Users/Jillian/Desktop/Thinkful Data Files/BlackFriday.csv')"
   ]
  },
  {
   "cell_type": "markdown",
   "metadata": {},
   "source": [
    "### Data Exploration ###"
   ]
  },
  {
   "cell_type": "code",
   "execution_count": 3,
   "metadata": {},
   "outputs": [
    {
     "data": {
      "text/html": [
       "<div>\n",
       "<style scoped>\n",
       "    .dataframe tbody tr th:only-of-type {\n",
       "        vertical-align: middle;\n",
       "    }\n",
       "\n",
       "    .dataframe tbody tr th {\n",
       "        vertical-align: top;\n",
       "    }\n",
       "\n",
       "    .dataframe thead th {\n",
       "        text-align: right;\n",
       "    }\n",
       "</style>\n",
       "<table border=\"1\" class=\"dataframe\">\n",
       "  <thead>\n",
       "    <tr style=\"text-align: right;\">\n",
       "      <th></th>\n",
       "      <th>User_ID</th>\n",
       "      <th>Occupation</th>\n",
       "      <th>Marital_Status</th>\n",
       "      <th>Product_Category_1</th>\n",
       "      <th>Product_Category_2</th>\n",
       "      <th>Product_Category_3</th>\n",
       "      <th>Purchase</th>\n",
       "    </tr>\n",
       "  </thead>\n",
       "  <tbody>\n",
       "    <tr>\n",
       "      <th>count</th>\n",
       "      <td>5.375770e+05</td>\n",
       "      <td>537577.00000</td>\n",
       "      <td>537577.000000</td>\n",
       "      <td>537577.000000</td>\n",
       "      <td>370591.000000</td>\n",
       "      <td>164278.000000</td>\n",
       "      <td>537577.000000</td>\n",
       "    </tr>\n",
       "    <tr>\n",
       "      <th>mean</th>\n",
       "      <td>1.002992e+06</td>\n",
       "      <td>8.08271</td>\n",
       "      <td>0.408797</td>\n",
       "      <td>5.295546</td>\n",
       "      <td>9.842144</td>\n",
       "      <td>12.669840</td>\n",
       "      <td>9333.859853</td>\n",
       "    </tr>\n",
       "    <tr>\n",
       "      <th>std</th>\n",
       "      <td>1.714393e+03</td>\n",
       "      <td>6.52412</td>\n",
       "      <td>0.491612</td>\n",
       "      <td>3.750701</td>\n",
       "      <td>5.087259</td>\n",
       "      <td>4.124341</td>\n",
       "      <td>4981.022133</td>\n",
       "    </tr>\n",
       "    <tr>\n",
       "      <th>min</th>\n",
       "      <td>1.000001e+06</td>\n",
       "      <td>0.00000</td>\n",
       "      <td>0.000000</td>\n",
       "      <td>1.000000</td>\n",
       "      <td>2.000000</td>\n",
       "      <td>3.000000</td>\n",
       "      <td>185.000000</td>\n",
       "    </tr>\n",
       "    <tr>\n",
       "      <th>25%</th>\n",
       "      <td>1.001495e+06</td>\n",
       "      <td>2.00000</td>\n",
       "      <td>0.000000</td>\n",
       "      <td>1.000000</td>\n",
       "      <td>5.000000</td>\n",
       "      <td>9.000000</td>\n",
       "      <td>5866.000000</td>\n",
       "    </tr>\n",
       "    <tr>\n",
       "      <th>50%</th>\n",
       "      <td>1.003031e+06</td>\n",
       "      <td>7.00000</td>\n",
       "      <td>0.000000</td>\n",
       "      <td>5.000000</td>\n",
       "      <td>9.000000</td>\n",
       "      <td>14.000000</td>\n",
       "      <td>8062.000000</td>\n",
       "    </tr>\n",
       "    <tr>\n",
       "      <th>75%</th>\n",
       "      <td>1.004417e+06</td>\n",
       "      <td>14.00000</td>\n",
       "      <td>1.000000</td>\n",
       "      <td>8.000000</td>\n",
       "      <td>15.000000</td>\n",
       "      <td>16.000000</td>\n",
       "      <td>12073.000000</td>\n",
       "    </tr>\n",
       "    <tr>\n",
       "      <th>max</th>\n",
       "      <td>1.006040e+06</td>\n",
       "      <td>20.00000</td>\n",
       "      <td>1.000000</td>\n",
       "      <td>18.000000</td>\n",
       "      <td>18.000000</td>\n",
       "      <td>18.000000</td>\n",
       "      <td>23961.000000</td>\n",
       "    </tr>\n",
       "  </tbody>\n",
       "</table>\n",
       "</div>"
      ],
      "text/plain": [
       "            User_ID    Occupation  Marital_Status  Product_Category_1  \\\n",
       "count  5.375770e+05  537577.00000   537577.000000       537577.000000   \n",
       "mean   1.002992e+06       8.08271        0.408797            5.295546   \n",
       "std    1.714393e+03       6.52412        0.491612            3.750701   \n",
       "min    1.000001e+06       0.00000        0.000000            1.000000   \n",
       "25%    1.001495e+06       2.00000        0.000000            1.000000   \n",
       "50%    1.003031e+06       7.00000        0.000000            5.000000   \n",
       "75%    1.004417e+06      14.00000        1.000000            8.000000   \n",
       "max    1.006040e+06      20.00000        1.000000           18.000000   \n",
       "\n",
       "       Product_Category_2  Product_Category_3       Purchase  \n",
       "count       370591.000000       164278.000000  537577.000000  \n",
       "mean             9.842144           12.669840    9333.859853  \n",
       "std              5.087259            4.124341    4981.022133  \n",
       "min              2.000000            3.000000     185.000000  \n",
       "25%              5.000000            9.000000    5866.000000  \n",
       "50%              9.000000           14.000000    8062.000000  \n",
       "75%             15.000000           16.000000   12073.000000  \n",
       "max             18.000000           18.000000   23961.000000  "
      ]
     },
     "execution_count": 3,
     "metadata": {},
     "output_type": "execute_result"
    }
   ],
   "source": [
    "df.describe()"
   ]
  },
  {
   "cell_type": "markdown",
   "metadata": {},
   "source": [
    "As seen above there are 537,577 transactions in total."
   ]
  },
  {
   "cell_type": "code",
   "execution_count": 4,
   "metadata": {},
   "outputs": [
    {
     "name": "stdout",
     "output_type": "stream",
     "text": [
      "<class 'pandas.core.frame.DataFrame'>\n",
      "RangeIndex: 537577 entries, 0 to 537576\n",
      "Data columns (total 12 columns):\n",
      "User_ID                       537577 non-null int64\n",
      "Product_ID                    537577 non-null object\n",
      "Gender                        537577 non-null object\n",
      "Age                           537577 non-null object\n",
      "Occupation                    537577 non-null int64\n",
      "City_Category                 537577 non-null object\n",
      "Stay_In_Current_City_Years    537577 non-null object\n",
      "Marital_Status                537577 non-null int64\n",
      "Product_Category_1            537577 non-null int64\n",
      "Product_Category_2            370591 non-null float64\n",
      "Product_Category_3            164278 non-null float64\n",
      "Purchase                      537577 non-null int64\n",
      "dtypes: float64(2), int64(5), object(5)\n",
      "memory usage: 49.2+ MB\n"
     ]
    }
   ],
   "source": [
    "df.info()"
   ]
  },
  {
   "cell_type": "markdown",
   "metadata": {},
   "source": [
    "##### 5 categorical features: ######\n",
    "Product ID<br>\n",
    "Gender<br>\n",
    "Age - dataset uses age ranges<br>\n",
    "City Category<br>\n",
    "Stay in Current City Years<br>\n",
    "\n",
    "##### 6 continuous features: #####\n",
    "User ID<br>\n",
    "Occupation *<br>\n",
    "Marital Status<br>\n",
    "Product Category 1 *<br>\n",
    "Product Category 2 *<br>\n",
    "Product Category 3 *<br>\n",
    "*Dataset already has associated numbers for each.\n",
    "\n",
    "Most of these features will need to be changed to numerical. The outcome variable is Purchase which is a continuous variable. This will need to be predicted by regression models."
   ]
  },
  {
   "cell_type": "code",
   "execution_count": 5,
   "metadata": {},
   "outputs": [
    {
     "data": {
      "text/plain": [
       "User_ID                        5891\n",
       "Product_ID                     3623\n",
       "Gender                            2\n",
       "Age                               7\n",
       "Occupation                       21\n",
       "City_Category                     3\n",
       "Stay_In_Current_City_Years        5\n",
       "Marital_Status                    2\n",
       "Product_Category_1               18\n",
       "Product_Category_2               17\n",
       "Product_Category_3               15\n",
       "Purchase                      17959\n",
       "dtype: int64"
      ]
     },
     "execution_count": 5,
     "metadata": {},
     "output_type": "execute_result"
    }
   ],
   "source": [
    "df.nunique()"
   ]
  },
  {
   "cell_type": "markdown",
   "metadata": {},
   "source": [
    "Something to note is there are not as many unique User IDs as there are transactions so there may be some reoccurring customers."
   ]
  },
  {
   "cell_type": "code",
   "execution_count": 6,
   "metadata": {},
   "outputs": [
    {
     "data": {
      "text/plain": [
       "User_ID                            0\n",
       "Product_ID                         0\n",
       "Gender                             0\n",
       "Age                                0\n",
       "Occupation                         0\n",
       "City_Category                      0\n",
       "Stay_In_Current_City_Years         0\n",
       "Marital_Status                     0\n",
       "Product_Category_1                 0\n",
       "Product_Category_2            166986\n",
       "Product_Category_3            373299\n",
       "Purchase                           0\n",
       "dtype: int64"
      ]
     },
     "execution_count": 6,
     "metadata": {},
     "output_type": "execute_result"
    }
   ],
   "source": [
    "df.isnull().sum()"
   ]
  },
  {
   "cell_type": "markdown",
   "metadata": {},
   "source": [
    "There are quite a few null values in Product Category 2 and 3. It seems those with null values in those features are customers who only bought one item from Product Category 1. I will try removing the null values and try filling them in."
   ]
  },
  {
   "cell_type": "code",
   "execution_count": 7,
   "metadata": {},
   "outputs": [],
   "source": [
    "df['Product_Category_2'].fillna('Unknown',inplace=True)\n",
    "df['Product_Category_3'].fillna('Unknown',inplace=True)\n",
    "#df = df.dropna()"
   ]
  },
  {
   "cell_type": "markdown",
   "metadata": {},
   "source": [
    "Dropping the null values caused the models to have very low accuracy due to losing half of the dataset. In the end, I decided to fill in the null values with \"Unknown.\""
   ]
  },
  {
   "cell_type": "code",
   "execution_count": 8,
   "metadata": {},
   "outputs": [
    {
     "data": {
      "image/png": "[encoded data removed]",
      "text/plain": [
       "<Figure size 720x936 with 6 Axes>"
      ]
     },
     "metadata": {
      "needs_background": "light"
     },
     "output_type": "display_data"
    }
   ],
   "source": [
    "plt.figure(figsize=(10,13))\n",
    "\n",
    "plt.subplot(3,2,1)\n",
    "ax = df['Gender'].value_counts().plot(kind='bar',rot=0,title='Gender')\n",
    "\n",
    "plt.subplot(3,2,2)\n",
    "ax = df['Age'].value_counts().plot(kind='bar',rot=0,title='Age')\n",
    "\n",
    "plt.subplot(3,2,3)\n",
    "ax = df['Occupation'].value_counts().plot(kind='bar',rot=0,title='Occupation')\n",
    "\n",
    "plt.subplot(3,2,4)\n",
    "ax = df['City_Category'].value_counts().plot(kind='bar',rot=0,title='City')\n",
    "\n",
    "plt.subplot(3,2,5)\n",
    "ax = df['Stay_In_Current_City_Years'].value_counts().plot(kind='bar',rot=0,title='Length of Stay in Years')\n",
    "\n",
    "plt.subplot(3,2,6)\n",
    "ax = df['Marital_Status'].value_counts().plot(kind='bar',rot=0,title='Marital Status')"
   ]
  },
  {
   "cell_type": "markdown",
   "metadata": {},
   "source": [
    "There are far more male customers than female customers. It also appears that most customers are younger in the 26-35 age range. Most customers have lived in their respective city for only 1 year. Also most customers are single rather than married."
   ]
  },
  {
   "cell_type": "code",
   "execution_count": 9,
   "metadata": {},
   "outputs": [],
   "source": [
    "all_married = df[df['Marital_Status'] == 1]\n",
    "all_single = df[df['Marital_Status'] == 0]"
   ]
  },
  {
   "cell_type": "code",
   "execution_count": 10,
   "metadata": {},
   "outputs": [
    {
     "data": {
      "image/png": "[encoded data removed]",
      "text/plain": [
       "<Figure size 1080x360 with 2 Axes>"
      ]
     },
     "metadata": {
      "needs_background": "light"
     },
     "output_type": "display_data"
    }
   ],
   "source": [
    "plt.figure(figsize=(15,5))\n",
    "\n",
    "plt.subplot(1,2,1)\n",
    "sns.countplot(all_married['Age'],hue=all_married['Gender'],\n",
    "              hue_order=['F','M']).set_title('The Number of Married Customers Based on Age and Gender')\n",
    "plt.ylim(0,100000)\n",
    "\n",
    "plt.subplot(1,2,2)\n",
    "sns.countplot(all_single['Age'],hue=all_single['Gender'],\n",
    "              hue_order=['F','M']).set_title('The Number of Single Customers Based on Age and Gender');"
   ]
  },
  {
   "cell_type": "markdown",
   "metadata": {},
   "source": [
    "Most customers are single males between the ages of 26-35 with married males between the ages of 26-35 as second most. The least number of customers appear to be single females over the age of 55."
   ]
  },
  {
   "cell_type": "code",
   "execution_count": 11,
   "metadata": {},
   "outputs": [
    {
     "data": {
      "image/png": "[encoded data removed]",
      "text/plain": [
       "<Figure size 432x288 with 1 Axes>"
      ]
     },
     "metadata": {
      "needs_background": "light"
     },
     "output_type": "display_data"
    }
   ],
   "source": [
    "plt.hist(df['Purchase'], bins=50)\n",
    "plt.title('Distribution of Purchase')\n",
    "plt.xlabel('Amount of Money Spent')\n",
    "plt.ylabel('Number of Customers');"
   ]
  },
  {
   "cell_type": "markdown",
   "metadata": {},
   "source": [
    "Above is the distribution of purchase amounts. There do not appear to be any significant outliers. However the distribution is quite skewed to the right. Most purchases appear to be in the \\\\$5000 to \\\\$10000 range."
   ]
  },
  {
   "cell_type": "code",
   "execution_count": 12,
   "metadata": {},
   "outputs": [
    {
     "data": {
      "image/png": "[encoded data removed]",
      "text/plain": [
       "<Figure size 1080x1080 with 6 Axes>"
      ]
     },
     "metadata": {
      "needs_background": "light"
     },
     "output_type": "display_data"
    }
   ],
   "source": [
    "plt.figure(figsize=(15,15))\n",
    "\n",
    "plt.subplot(3,2,1)\n",
    "sns.boxplot(x = 'Gender', y = 'Purchase', data = df)\n",
    "\n",
    "plt.subplot(3,2,2)\n",
    "sns.boxplot(x = 'Age', y = 'Purchase', data = df)\n",
    "\n",
    "plt.subplot(3,2,3)\n",
    "sns.boxplot(x = 'Occupation', y = 'Purchase', data = df)\n",
    "\n",
    "plt.subplot(3,2,4)\n",
    "sns.boxplot(x = 'City_Category', y = 'Purchase', data = df)\n",
    "\n",
    "plt.subplot(3,2,5)\n",
    "sns.boxplot(x = 'Stay_In_Current_City_Years', y = 'Purchase', data = df)\n",
    "\n",
    "plt.subplot(3,2,6)\n",
    "sns.boxplot(x = 'Marital_Status', y = 'Purchase', data = df);"
   ]
  },
  {
   "cell_type": "markdown",
   "metadata": {},
   "source": [
    "The distribution of purchases among the above features appear to be very similar. It does not seem like there are any particular factors that cause a person to spend more money in terms of gender, marital status, age, etc."
   ]
  },
  {
   "cell_type": "code",
   "execution_count": 13,
   "metadata": {},
   "outputs": [],
   "source": [
    "all_females = df[df['Gender'] == 'F']\n",
    "all_males = df[df['Gender'] == 'M']"
   ]
  },
  {
   "cell_type": "code",
   "execution_count": 14,
   "metadata": {},
   "outputs": [
    {
     "data": {
      "image/png": "[encoded data removed]",
      "text/plain": [
       "<Figure size 1080x360 with 2 Axes>"
      ]
     },
     "metadata": {
      "needs_background": "light"
     },
     "output_type": "display_data"
    },
    {
     "name": "stdout",
     "output_type": "stream",
     "text": [
      "The mean purchase of females: $8809.76\n",
      "The mean purchase of males: $9504.77\n",
      "Purchase based on Gender T-test: Ttest_indResult(statistic=-45.67264701908008, pvalue=0.0)\n"
     ]
    }
   ],
   "source": [
    "from scipy.stats import ttest_ind\n",
    "plt.figure(figsize=(15,5))\n",
    "\n",
    "plt.subplot(1,2,1)\n",
    "plt.hist(all_females['Purchase'])\n",
    "plt.title('Purchase of Females')\n",
    "plt.ylim(0,100000)\n",
    "\n",
    "plt.subplot(1,2,2)\n",
    "plt.hist(all_males['Purchase'])\n",
    "plt.title('Purchase of Males')\n",
    "plt.ylim(0,100000)\n",
    "plt.show()\n",
    "\n",
    "print(\"The mean purchase of females: ${0:.2f}\".format(np.mean(all_females['Purchase'])))\n",
    "print(\"The mean purchase of males: ${0:.2f}\".format(np.mean(all_males['Purchase'])))\n",
    "print(\"Purchase based on Gender T-test:\", ttest_ind(all_females['Purchase'], all_males['Purchase'], equal_var=False))"
   ]
  },
  {
   "cell_type": "markdown",
   "metadata": {},
   "source": [
    "There is a significant difference between the amount of money spent by male customers versus female customers with a p-value of 0."
   ]
  },
  {
   "cell_type": "code",
   "execution_count": 15,
   "metadata": {},
   "outputs": [
    {
     "data": {
      "image/png": "[encoded data removed]",
      "text/plain": [
       "<Figure size 1080x360 with 2 Axes>"
      ]
     },
     "metadata": {
      "needs_background": "light"
     },
     "output_type": "display_data"
    },
    {
     "name": "stdout",
     "output_type": "stream",
     "text": [
      "The mean purchase of married: $9334.63\n",
      "The mean purchase of singles: $9333.33\n",
      "Purchase based on Marital Status T-test: Ttest_indResult(statistic=0.09463132715737395, pvalue=0.9246077060850849)\n"
     ]
    }
   ],
   "source": [
    "plt.figure(figsize=(15,5))\n",
    "\n",
    "plt.subplot(1,2,1)\n",
    "plt.hist(all_married['Purchase'])\n",
    "plt.title('Purchase of Married')\n",
    "plt.ylim(0,80000)\n",
    "\n",
    "plt.subplot(1,2,2)\n",
    "plt.hist(all_single['Purchase'])\n",
    "plt.title('Purchase of Singles')\n",
    "plt.ylim(0,80000)\n",
    "plt.show()\n",
    "\n",
    "print(\"The mean purchase of married: ${0:.2f}\".format(np.mean(all_married['Purchase'])))\n",
    "print(\"The mean purchase of singles: ${0:.2f}\".format(np.mean(all_single['Purchase'])))\n",
    "print(\"Purchase based on Marital Status T-test:\", ttest_ind(all_married['Purchase'], all_single['Purchase'], equal_var=False))"
   ]
  },
  {
   "cell_type": "markdown",
   "metadata": {},
   "source": [
    "There does not appear to be a significant difference betweeen the amount of money spent by married customers versus single customers."
   ]
  },
  {
   "cell_type": "markdown",
   "metadata": {},
   "source": [
    "### Feature Engineering ###"
   ]
  },
  {
   "cell_type": "code",
   "execution_count": 16,
   "metadata": {},
   "outputs": [],
   "source": [
    "df['Stay_In_Current_City_Years'].replace({'4+':'4'}, inplace=True)\n",
    "df['Stay_In_Current_City_Years'] = df['Stay_In_Current_City_Years'].astype(int)\n",
    "df['Purchase'] = np.log(df['Purchase'])"
   ]
  },
  {
   "cell_type": "markdown",
   "metadata": {},
   "source": [
    "Above I am adjusting the Stay in Current City Years feature so it can be used as a numerical feature. I am also changing the Purchase outcome to a log-transformed variable so it will be normally distributed."
   ]
  },
  {
   "cell_type": "code",
   "execution_count": 17,
   "metadata": {},
   "outputs": [
    {
     "data": {
      "image/png": "[encoded data removed]",
      "text/plain": [
       "<Figure size 432x288 with 2 Axes>"
      ]
     },
     "metadata": {
      "needs_background": "light"
     },
     "output_type": "display_data"
    }
   ],
   "source": [
    "sns.heatmap(df.corr(),cmap='Blues');"
   ]
  },
  {
   "cell_type": "markdown",
   "metadata": {},
   "source": [
    "The heatmap shows that the data suffers from very little to no negative or positive multicollinearity."
   ]
  },
  {
   "cell_type": "code",
   "execution_count": 18,
   "metadata": {},
   "outputs": [],
   "source": [
    "df = pd.get_dummies(df, columns=['Gender','City_Category','Age',\n",
    "                                 'Occupation','Product_Category_1',\n",
    "                                 'Product_Category_2','Product_Category_3'])\n",
    "\n",
    "df = df.drop(columns=['Product_ID','User_ID'])"
   ]
  },
  {
   "cell_type": "markdown",
   "metadata": {},
   "source": [
    "I have changed the categorical features to numerical features and have dropped the Product ID and User ID features."
   ]
  },
  {
   "cell_type": "markdown",
   "metadata": {},
   "source": [
    "# Model Selection #"
   ]
  },
  {
   "cell_type": "code",
   "execution_count": 19,
   "metadata": {},
   "outputs": [],
   "source": [
    "from sklearn import linear_model\n",
    "from sklearn import preprocessing\n",
    "from sklearn.model_selection import train_test_split\n",
    "from sklearn.model_selection import cross_val_score\n",
    "import time"
   ]
  },
  {
   "cell_type": "code",
   "execution_count": 20,
   "metadata": {},
   "outputs": [],
   "source": [
    "X = df.drop(columns=['Purchase'])\n",
    "y = df.Purchase"
   ]
  },
  {
   "cell_type": "markdown",
   "metadata": {},
   "source": [
    "I am setting all of the features to X and the Purchase outcome to y."
   ]
  },
  {
   "cell_type": "code",
   "execution_count": 21,
   "metadata": {},
   "outputs": [],
   "source": [
    "X_train, X_test, y_train, y_test = train_test_split(X, y, test_size=0.33, random_state=111)"
   ]
  },
  {
   "cell_type": "markdown",
   "metadata": {},
   "source": [
    "Next I am splitting the training and test sets to 67% and 33% respectively."
   ]
  },
  {
   "cell_type": "markdown",
   "metadata": {},
   "source": [
    "### Lasso Regression ###"
   ]
  },
  {
   "cell_type": "code",
   "execution_count": 26,
   "metadata": {},
   "outputs": [
    {
     "name": "stdout",
     "output_type": "stream",
     "text": [
      "--- 29.663336992263794 seconds ---\n"
     ]
    }
   ],
   "source": [
    "start_time = time.time()\n",
    "\n",
    "lasso = linear_model.Lasso(alpha=.0001)\n",
    "lasso.fit(X_train, y_train)\n",
    "\n",
    "print(\"--- %s seconds ---\" % (time.time() - start_time))"
   ]
  },
  {
   "cell_type": "code",
   "execution_count": 27,
   "metadata": {},
   "outputs": [
    {
     "name": "stdout",
     "output_type": "stream",
     "text": [
      "0.6597290654110618\n",
      "0.6603339569929496\n",
      "--- 1.261932611465454 seconds ---\n"
     ]
    }
   ],
   "source": [
    "start_time = time.time()\n",
    "\n",
    "scores = pd.DataFrame(data={'Lasso Regression': [lasso.score(X_train, y_train), lasso.score(X_test, y_test)]})\n",
    "\n",
    "print(lasso.score(X_train, y_train))\n",
    "print(lasso.score(X_test, y_test))\n",
    "\n",
    "print(\"--- %s seconds ---\" % (time.time() - start_time))"
   ]
  },
  {
   "cell_type": "markdown",
   "metadata": {},
   "source": [
    "The first model I tried was lasso regression. Due to the dataset having a rather large number of features, I used lasso regression to remove the least important ones. I will be able to use the coefficients below to help decipher what are the most important and impactful features in predicting how much money a person will spend.\n",
    "\n",
    "The computational run time was pretty quick. The accuracy scores for the training and test sets were decent but I will attempt to increase the score with feature selection later on."
   ]
  },
  {
   "cell_type": "code",
   "execution_count": 30,
   "metadata": {},
   "outputs": [
    {
     "name": "stdout",
     "output_type": "stream",
     "text": [
      "                      Field    Coeff\n",
      "35     Product_Category_1_1  0.14652\n",
      "40     Product_Category_1_6  0.29083\n",
      "41     Product_Category_1_7  0.36371\n",
      "43     Product_Category_1_9  0.16172\n",
      "44    Product_Category_1_10  0.55248\n",
      "49    Product_Category_1_15  0.20164\n",
      "50    Product_Category_1_16  0.25478\n",
      "61  Product_Category_2_10.0  0.10884\n",
      "75   Product_Category_3_8.0  0.15412\n",
      "\n",
      "\n",
      "                     Field    Coeff\n",
      "38    Product_Category_1_4 -1.59157\n",
      "39    Product_Category_1_5 -0.61901\n",
      "42    Product_Category_1_8 -0.41883\n",
      "45   Product_Category_1_11 -0.92644\n",
      "46   Product_Category_1_12 -2.11847\n",
      "47   Product_Category_1_13 -2.75232\n",
      "52   Product_Category_1_18 -1.31265\n",
      "55  Product_Category_2_4.0 -0.17264\n",
      "72  Product_Category_3_4.0 -0.29677\n"
     ]
    }
   ],
   "source": [
    "fieldList = np.array(list(X)).reshape(-1,1)\n",
    "coeffs = np.reshape(np.round(lasso.coef_,5),(-1,1))\n",
    "coeffs = np.concatenate((fieldList,coeffs),axis=1)\n",
    "coeffs = pd.DataFrame(coeffs,columns=['Field','Coeff'])\n",
    "coeffs['Coeff'] = coeffs['Coeff'].astype(float)\n",
    "print(coeffs[coeffs['Coeff']>0.1])\n",
    "print('\\n')\n",
    "print(coeffs[coeffs['Coeff']<-0.1])"
   ]
  },
  {
   "cell_type": "markdown",
   "metadata": {},
   "source": [
    "The features with the most significant positive and negative coefficients all appear to relate to the product category. The other features (gender, age, marital status, etc.) do not appear to be as impactful. This actually makes sense as certain product categories are going to be more expensive than others."
   ]
  },
  {
   "cell_type": "markdown",
   "metadata": {},
   "source": [
    "### Decision Tree ###"
   ]
  },
  {
   "cell_type": "code",
   "execution_count": 31,
   "metadata": {},
   "outputs": [
    {
     "name": "stdout",
     "output_type": "stream",
     "text": [
      "--- 3.4891350269317627 seconds ---\n"
     ]
    }
   ],
   "source": [
    "from sklearn import tree\n",
    "\n",
    "start_time = time.time()\n",
    "\n",
    "decision_tree = tree.DecisionTreeRegressor(max_depth=15)\n",
    "decision_tree.fit(X_train, y_train)\n",
    "\n",
    "print(\"--- %s seconds ---\" % (time.time() - start_time))"
   ]
  },
  {
   "cell_type": "code",
   "execution_count": 32,
   "metadata": {},
   "outputs": [
    {
     "name": "stdout",
     "output_type": "stream",
     "text": [
      "0.6779834703229066\n",
      "0.6587157019251342\n",
      "--- 1.1154847145080566 seconds ---\n"
     ]
    }
   ],
   "source": [
    "start_time = time.time()\n",
    "\n",
    "scores['Decision Tree'] = [decision_tree.score(X_train, y_train), decision_tree.score(X_test, y_test)]\n",
    "\n",
    "print(decision_tree.score(X_train, y_train))\n",
    "print(decision_tree.score(X_test, y_test))\n",
    "\n",
    "print(\"--- %s seconds ---\" % (time.time() - start_time))"
   ]
  },
  {
   "cell_type": "markdown",
   "metadata": {},
   "source": [
    "The next model I tried was decision tree. Similarly to the lasso regression, I will use the feature importance attribute to see which features are most impactful to predicting how much money a person will spend.\n",
    "\n",
    "The computational run time was quick and the accuracy scores were decent but could probably be better."
   ]
  },
  {
   "cell_type": "code",
   "execution_count": 33,
   "metadata": {},
   "outputs": [
    {
     "data": {
      "image/png": "[encoded data removed]",
      "text/plain": [
       "<Figure size 720x720 with 1 Axes>"
      ]
     },
     "metadata": {
      "needs_background": "light"
     },
     "output_type": "display_data"
    }
   ],
   "source": [
    "plt.figure(figsize=(10,10))\n",
    "feature_importance = pd.Series(decision_tree.feature_importances_, index=X.columns)\n",
    "feature_importance.nlargest(20).plot(kind='barh')\n",
    "plt.xlabel('Relative Importance')\n",
    "plt.title('Variable Importance')\n",
    "plt.show()"
   ]
  },
  {
   "cell_type": "markdown",
   "metadata": {},
   "source": [
    "The decision tree is using mostly the Product Category for predicting purchase amount. There are some slight differences from lasso regression in that Stay in Current City Years, City Category, and Marital Status are also being used in the top 20."
   ]
  },
  {
   "cell_type": "markdown",
   "metadata": {},
   "source": [
    "### Random Forest ###"
   ]
  },
  {
   "cell_type": "code",
   "execution_count": 34,
   "metadata": {},
   "outputs": [
    {
     "name": "stdout",
     "output_type": "stream",
     "text": [
      "--- 34.456010818481445 seconds ---\n"
     ]
    }
   ],
   "source": [
    "from sklearn import ensemble\n",
    "\n",
    "start_time = time.time()\n",
    "\n",
    "rfr = ensemble.RandomForestRegressor(n_estimators=10)\n",
    "rfr.fit(X_train, y_train)\n",
    "\n",
    "print(\"--- %s seconds ---\" % (time.time() - start_time))"
   ]
  },
  {
   "cell_type": "code",
   "execution_count": 35,
   "metadata": {},
   "outputs": [
    {
     "name": "stdout",
     "output_type": "stream",
     "text": [
      "0.7806281883699642\n",
      "0.6416083194240211\n",
      "--- 5.5153748989105225 seconds ---\n"
     ]
    }
   ],
   "source": [
    "start_time = time.time()\n",
    "\n",
    "scores['Random Forest'] = [rfr.score(X_train, y_train), rfr.score(X_test, y_test)]\n",
    "\n",
    "print(rfr.score(X_train, y_train))\n",
    "print(rfr.score(X_test, y_test))\n",
    "\n",
    "print(\"--- %s seconds ---\" % (time.time() - start_time))"
   ]
  },
  {
   "cell_type": "markdown",
   "metadata": {},
   "source": [
    "The next model I tried was the random forest model. The computational run time was rather quick. The accuracy score for the training set has done the best of the models so far. However there is quite a difference between the accuracy score for the training set and the test set so there maybe some overfitting."
   ]
  },
  {
   "cell_type": "code",
   "execution_count": 36,
   "metadata": {},
   "outputs": [
    {
     "data": {
      "image/png": "[encoded data removed]",
      "text/plain": [
       "<Figure size 720x720 with 1 Axes>"
      ]
     },
     "metadata": {
      "needs_background": "light"
     },
     "output_type": "display_data"
    }
   ],
   "source": [
    "plt.figure(figsize=(10,10))\n",
    "feature_importance = pd.Series(rfr.feature_importances_, index=X.columns)\n",
    "feature_importance.nlargest(20).plot(kind='barh')\n",
    "plt.xlabel('Relative Importance')\n",
    "plt.title('Variable Importance')\n",
    "plt.show()"
   ]
  },
  {
   "cell_type": "markdown",
   "metadata": {},
   "source": [
    "Random forest is pretty consistent with lasso regression and decision tree in that Product Category is one of the most important features. However interestingly random forest is using some of the other features like age, gender, and marital status. These features are still not as important as Product Category but they are more impactful than in the other models."
   ]
  },
  {
   "cell_type": "markdown",
   "metadata": {},
   "source": [
    "### Gradient Boosting ###"
   ]
  },
  {
   "cell_type": "code",
   "execution_count": 37,
   "metadata": {},
   "outputs": [
    {
     "name": "stdout",
     "output_type": "stream",
     "text": [
      "--- 202.07163548469543 seconds ---\n"
     ]
    }
   ],
   "source": [
    "start_time = time.time()\n",
    "\n",
    "params = {'n_estimators': 500,\n",
    "          'max_depth': 2}\n",
    "reg = ensemble.GradientBoostingRegressor(**params)\n",
    "reg.fit(X_train, y_train)\n",
    "\n",
    "print(\"--- %s seconds ---\" % (time.time() - start_time))"
   ]
  },
  {
   "cell_type": "code",
   "execution_count": 38,
   "metadata": {},
   "outputs": [
    {
     "name": "stdout",
     "output_type": "stream",
     "text": [
      "0.6639160047659454\n",
      "0.6640292298852232\n",
      "--- 13.51868724822998 seconds ---\n"
     ]
    }
   ],
   "source": [
    "start_time = time.time()\n",
    "\n",
    "scores['Gradient Boosting'] = [reg.score(X_train, y_train), reg.score(X_test, y_test)]\n",
    "\n",
    "print(reg.score(X_train, y_train))\n",
    "print(reg.score(X_test, y_test))\n",
    "\n",
    "print(\"--- %s seconds ---\" % (time.time() - start_time))"
   ]
  },
  {
   "cell_type": "markdown",
   "metadata": {},
   "source": [
    "The final model I tried was gradient boosting. The computational run time took the longest. However the accuracy score for the training and test sets were the most consistent. Although similarly to the other models the accuracy scores could be better."
   ]
  },
  {
   "cell_type": "code",
   "execution_count": 39,
   "metadata": {},
   "outputs": [
    {
     "data": {
      "image/png": "[encoded data removed]",
      "text/plain": [
       "<Figure size 720x720 with 1 Axes>"
      ]
     },
     "metadata": {
      "needs_background": "light"
     },
     "output_type": "display_data"
    }
   ],
   "source": [
    "plt.figure(figsize=(10,10))\n",
    "feature_importance = pd.Series(reg.feature_importances_, index=X.columns)\n",
    "feature_importance.nlargest(20).plot(kind='barh')\n",
    "plt.xlabel('Relative Importance')\n",
    "plt.title('Variable Importance')\n",
    "plt.show()"
   ]
  },
  {
   "cell_type": "markdown",
   "metadata": {},
   "source": [
    "Once again, the gradient boosting model mostly used Product Category as one of the most important features. For the decision tree, random forest, and gradient boosting models, Product Category 1 of type 1 was the number one most important feature but with different levels of relative importance."
   ]
  },
  {
   "cell_type": "markdown",
   "metadata": {},
   "source": [
    "### Feature Selection: Principal Component Analysis (PCA) ###\n",
    "\n",
    "As the previous model accuracy scores were decent but not great I decided to attempt the models again after doing feature selection. As seen below, I first attempted with Principal Component Analysis and then with Select K Best."
   ]
  },
  {
   "cell_type": "code",
   "execution_count": 40,
   "metadata": {},
   "outputs": [],
   "source": [
    "from sklearn.preprocessing import StandardScaler\n",
    "from sklearn.decomposition import PCA\n",
    "\n",
    "#scaler = StandardScaler()\n",
    "#scaler.fit(X)\n",
    "#X_scaled = scaler.transform(X)"
   ]
  },
  {
   "cell_type": "markdown",
   "metadata": {},
   "source": [
    "When I attempted the models with PCA, I had scaled the dataset prior. However due to the majority of features being categorical it did not make much sense to scale all of them and it did not help with the accuracy scores."
   ]
  },
  {
   "cell_type": "code",
   "execution_count": 41,
   "metadata": {},
   "outputs": [
    {
     "name": "stdout",
     "output_type": "stream",
     "text": [
      "[0.24575943 0.31703391 0.3720166  0.42652475 0.47549752 0.51880931\n",
      " 0.55735779 0.59392602 0.62492455 0.65094604 0.6720801  0.69004709\n",
      " 0.70758498 0.72401178 0.73984791 0.75421456 0.76735429 0.77892912\n",
      " 0.79022634 0.80014506]\n",
      "\n",
      "\n",
      "Need to keep 20 components to explain 80% of the variance.\n"
     ]
    }
   ],
   "source": [
    "# PCA to keep 80% of variance\n",
    "pca = PCA(0.8)\n",
    "\n",
    "# Components required to keep 80% of variance\n",
    "X_pca = pca.fit_transform(X)\n",
    "\n",
    "# Cumulative sum of explained variance by the components\n",
    "var_cumsum=pca.explained_variance_ratio_.cumsum()\n",
    "print(var_cumsum)\n",
    "print('\\n')\n",
    "print('Need to keep {} components to explain 80% of the variance.'.format(len(var_cumsum)))"
   ]
  },
  {
   "cell_type": "markdown",
   "metadata": {},
   "source": [
    "I had played around with the amount of explained variance. I decided to start with 80% which would require 20 out of the 88 components. The accuracy scores as seen later on were poorer with lesser percentage of explained variance and would increase with a higher percentage of explained variance. Which in conclusion means the PCA is not helping much."
   ]
  },
  {
   "cell_type": "code",
   "execution_count": 42,
   "metadata": {},
   "outputs": [],
   "source": [
    "X_train, X_test, y_train, y_test = train_test_split(X_pca, y, test_size=0.33, random_state=111)"
   ]
  },
  {
   "cell_type": "markdown",
   "metadata": {},
   "source": [
    "### Lasso Regression with PCA ###"
   ]
  },
  {
   "cell_type": "code",
   "execution_count": 43,
   "metadata": {},
   "outputs": [
    {
     "data": {
      "text/plain": [
       "Lasso(alpha=0.0001, copy_X=True, fit_intercept=True, max_iter=1000,\n",
       "   normalize=False, positive=False, precompute=False, random_state=None,\n",
       "   selection='cyclic', tol=0.0001, warm_start=False)"
      ]
     },
     "execution_count": 43,
     "metadata": {},
     "output_type": "execute_result"
    }
   ],
   "source": [
    "lasso = linear_model.Lasso(alpha=.0001)\n",
    "lasso.fit(X_train, y_train)"
   ]
  },
  {
   "cell_type": "code",
   "execution_count": 44,
   "metadata": {},
   "outputs": [
    {
     "name": "stdout",
     "output_type": "stream",
     "text": [
      "0.21427458788375353\n",
      "0.21293987648369572\n"
     ]
    }
   ],
   "source": [
    "scores_PCA = pd.DataFrame(data={'Lasso Regression': [lasso.score(X_train, y_train)]})\n",
    "\n",
    "print(lasso.score(X_train, y_train))\n",
    "print(lasso.score(X_test, y_test))"
   ]
  },
  {
   "cell_type": "markdown",
   "metadata": {},
   "source": [
    "The accuracy scores above are much worse than the accuracy scores without PCA."
   ]
  },
  {
   "cell_type": "markdown",
   "metadata": {},
   "source": [
    "### Decision Tree with PCA ###"
   ]
  },
  {
   "cell_type": "code",
   "execution_count": 45,
   "metadata": {},
   "outputs": [
    {
     "data": {
      "text/plain": [
       "DecisionTreeRegressor(criterion='mse', max_depth=15, max_features=None,\n",
       "           max_leaf_nodes=None, min_impurity_decrease=0.0,\n",
       "           min_impurity_split=None, min_samples_leaf=1,\n",
       "           min_samples_split=2, min_weight_fraction_leaf=0.0,\n",
       "           presort=False, random_state=None, splitter='best')"
      ]
     },
     "execution_count": 45,
     "metadata": {},
     "output_type": "execute_result"
    }
   ],
   "source": [
    "decision_tree = tree.DecisionTreeRegressor(max_depth=15)\n",
    "decision_tree.fit(X_train, y_train)"
   ]
  },
  {
   "cell_type": "code",
   "execution_count": 46,
   "metadata": {},
   "outputs": [
    {
     "name": "stdout",
     "output_type": "stream",
     "text": [
      "0.55673701686954\n",
      "0.4840873860767805\n"
     ]
    }
   ],
   "source": [
    "scores_PCA['Decision Tree'] = [decision_tree.score(X_train, y_train)]\n",
    "\n",
    "print(decision_tree.score(X_train, y_train))\n",
    "print(decision_tree.score(X_test, y_test))"
   ]
  },
  {
   "cell_type": "markdown",
   "metadata": {},
   "source": [
    "The accuracy scores above are slightly worse than the accuracy scores without PCA but are not failing as bad as the lasso regression scores."
   ]
  },
  {
   "cell_type": "markdown",
   "metadata": {},
   "source": [
    "### Random Forest with PCA ###"
   ]
  },
  {
   "cell_type": "code",
   "execution_count": 47,
   "metadata": {},
   "outputs": [
    {
     "data": {
      "text/plain": [
       "RandomForestRegressor(bootstrap=True, criterion='mse', max_depth=None,\n",
       "           max_features='auto', max_leaf_nodes=None,\n",
       "           min_impurity_decrease=0.0, min_impurity_split=None,\n",
       "           min_samples_leaf=1, min_samples_split=2,\n",
       "           min_weight_fraction_leaf=0.0, n_estimators=10, n_jobs=None,\n",
       "           oob_score=False, random_state=None, verbose=0, warm_start=False)"
      ]
     },
     "execution_count": 47,
     "metadata": {},
     "output_type": "execute_result"
    }
   ],
   "source": [
    "rfr = ensemble.RandomForestRegressor(n_estimators=10)\n",
    "rfr.fit(X_train, y_train)"
   ]
  },
  {
   "cell_type": "code",
   "execution_count": 48,
   "metadata": {},
   "outputs": [
    {
     "name": "stdout",
     "output_type": "stream",
     "text": [
      "0.7713372419197189\n",
      "0.591433603087121\n"
     ]
    }
   ],
   "source": [
    "scores_PCA['Random Forest'] = [rfr.score(X_train, y_train)]\n",
    "\n",
    "print(rfr.score(X_train, y_train))\n",
    "print(rfr.score(X_test, y_test))"
   ]
  },
  {
   "cell_type": "markdown",
   "metadata": {},
   "source": [
    "The training set score was pretty consistent with the model without PCA however there is an even larger difference between the training set score and test score so possibly some overfitting."
   ]
  },
  {
   "cell_type": "markdown",
   "metadata": {},
   "source": [
    "### Gradient Boosting with PCA ###"
   ]
  },
  {
   "cell_type": "code",
   "execution_count": 49,
   "metadata": {},
   "outputs": [
    {
     "data": {
      "text/plain": [
       "GradientBoostingRegressor(alpha=0.9, criterion='friedman_mse', init=None,\n",
       "             learning_rate=0.1, loss='ls', max_depth=2, max_features=None,\n",
       "             max_leaf_nodes=None, min_impurity_decrease=0.0,\n",
       "             min_impurity_split=None, min_samples_leaf=1,\n",
       "             min_samples_split=2, min_weight_fraction_leaf=0.0,\n",
       "             n_estimators=500, n_iter_no_change=None, presort='auto',\n",
       "             random_state=None, subsample=1.0, tol=0.0001,\n",
       "             validation_fraction=0.1, verbose=0, warm_start=False)"
      ]
     },
     "execution_count": 49,
     "metadata": {},
     "output_type": "execute_result"
    }
   ],
   "source": [
    "params = {'n_estimators': 500,\n",
    "          'max_depth': 2}\n",
    "reg = ensemble.GradientBoostingRegressor(**params)\n",
    "reg.fit(X_train, y_train)"
   ]
  },
  {
   "cell_type": "code",
   "execution_count": 50,
   "metadata": {},
   "outputs": [
    {
     "name": "stdout",
     "output_type": "stream",
     "text": [
      "0.3816479166301945\n",
      "0.37437825996242435\n"
     ]
    }
   ],
   "source": [
    "scores_PCA['Gradient Boosting'] = [reg.score(X_train, y_train)]\n",
    "\n",
    "print(reg.score(X_train, y_train))\n",
    "print(reg.score(X_test, y_test))"
   ]
  },
  {
   "cell_type": "markdown",
   "metadata": {},
   "source": [
    "Once again, the accuracy scores were poorer with PCA than without."
   ]
  },
  {
   "cell_type": "markdown",
   "metadata": {},
   "source": [
    "### Feature Selection: Select K Best (SKB) ###\n",
    "As the PCA did not seem to increase the accuracy of the scores and due to the nature of the dataset (number of categorical features), I attempted the models with SKB to see if using only the most important features would help."
   ]
  },
  {
   "cell_type": "code",
   "execution_count": 51,
   "metadata": {},
   "outputs": [
    {
     "name": "stdout",
     "output_type": "stream",
     "text": [
      "(537577, 15)\n"
     ]
    },
    {
     "data": {
      "text/plain": [
       "['Product_Category_1_1',\n",
       " 'Product_Category_1_2',\n",
       " 'Product_Category_1_3',\n",
       " 'Product_Category_1_4',\n",
       " 'Product_Category_1_5',\n",
       " 'Product_Category_1_6',\n",
       " 'Product_Category_1_8',\n",
       " 'Product_Category_1_9',\n",
       " 'Product_Category_1_10',\n",
       " 'Product_Category_1_11',\n",
       " 'Product_Category_1_12',\n",
       " 'Product_Category_1_13',\n",
       " 'Product_Category_1_14',\n",
       " 'Product_Category_1_15',\n",
       " 'Product_Category_2_4.0']"
      ]
     },
     "execution_count": 51,
     "metadata": {},
     "output_type": "execute_result"
    }
   ],
   "source": [
    "from sklearn.feature_selection import SelectKBest\n",
    "from sklearn.feature_selection import f_classif\n",
    "\n",
    "selector = SelectKBest(f_classif, k=15)\n",
    "selector.fit(X, y)\n",
    "\n",
    "X_skbest = selector.transform(X)\n",
    "print(X_skbest.shape)\n",
    "\n",
    "X.columns[selector.get_support(indices=True)].tolist()"
   ]
  },
  {
   "cell_type": "markdown",
   "metadata": {},
   "source": [
    "As a note, SKB is consistent with the previous models in determining Product Category as being the most important feature for predicting purchase amount."
   ]
  },
  {
   "cell_type": "code",
   "execution_count": 52,
   "metadata": {},
   "outputs": [],
   "source": [
    "X_train, X_test, y_train, y_test = train_test_split(X_skbest, y, test_size=0.33, random_state=111)"
   ]
  },
  {
   "cell_type": "markdown",
   "metadata": {},
   "source": [
    "### Lasso Regression with SKB ###"
   ]
  },
  {
   "cell_type": "code",
   "execution_count": 53,
   "metadata": {},
   "outputs": [
    {
     "data": {
      "text/plain": [
       "Lasso(alpha=1e-06, copy_X=True, fit_intercept=True, max_iter=1000,\n",
       "   normalize=False, positive=False, precompute=False, random_state=None,\n",
       "   selection='cyclic', tol=0.0001, warm_start=False)"
      ]
     },
     "execution_count": 53,
     "metadata": {},
     "output_type": "execute_result"
    }
   ],
   "source": [
    "lasso = linear_model.Lasso(alpha=.000001)\n",
    "lasso.fit(X_train, y_train)"
   ]
  },
  {
   "cell_type": "code",
   "execution_count": 54,
   "metadata": {},
   "outputs": [
    {
     "name": "stdout",
     "output_type": "stream",
     "text": [
      "0.6213459715839016\n",
      "0.6240121716623556\n"
     ]
    }
   ],
   "source": [
    "scores_SKB = pd.DataFrame(data={'Lasso Regression': [lasso.score(X_train, y_train)]})\n",
    "\n",
    "print(lasso.score(X_train, y_train))\n",
    "print(lasso.score(X_test, y_test))"
   ]
  },
  {
   "cell_type": "markdown",
   "metadata": {},
   "source": [
    "Lasso regression with SKB is doing much better than with PCA but not better than without PCA or SKB."
   ]
  },
  {
   "cell_type": "markdown",
   "metadata": {},
   "source": [
    "### Decision Tree with SKB ###"
   ]
  },
  {
   "cell_type": "code",
   "execution_count": 55,
   "metadata": {},
   "outputs": [
    {
     "data": {
      "text/plain": [
       "DecisionTreeRegressor(criterion='mse', max_depth=15, max_features=None,\n",
       "           max_leaf_nodes=None, min_impurity_decrease=0.0,\n",
       "           min_impurity_split=None, min_samples_leaf=1,\n",
       "           min_samples_split=2, min_weight_fraction_leaf=0.0,\n",
       "           presort=False, random_state=None, splitter='best')"
      ]
     },
     "execution_count": 55,
     "metadata": {},
     "output_type": "execute_result"
    }
   ],
   "source": [
    "decision_tree = tree.DecisionTreeRegressor(max_depth=15)\n",
    "decision_tree.fit(X_train, y_train)"
   ]
  },
  {
   "cell_type": "code",
   "execution_count": 56,
   "metadata": {},
   "outputs": [
    {
     "name": "stdout",
     "output_type": "stream",
     "text": [
      "0.6218284397207232\n",
      "0.6244940077632458\n"
     ]
    }
   ],
   "source": [
    "scores_SKB['Decision Tree'] = [decision_tree.score(X_train, y_train)]\n",
    "\n",
    "print(decision_tree.score(X_train, y_train))\n",
    "print(decision_tree.score(X_test, y_test))"
   ]
  },
  {
   "cell_type": "markdown",
   "metadata": {},
   "source": [
    "Decision tree with SKB scores are better than PCA but not without PCA or SKB."
   ]
  },
  {
   "cell_type": "markdown",
   "metadata": {},
   "source": [
    "### Random Forest with SKB ###"
   ]
  },
  {
   "cell_type": "code",
   "execution_count": 57,
   "metadata": {},
   "outputs": [
    {
     "data": {
      "text/plain": [
       "RandomForestRegressor(bootstrap=True, criterion='mse', max_depth=None,\n",
       "           max_features='auto', max_leaf_nodes=None,\n",
       "           min_impurity_decrease=0.0, min_impurity_split=None,\n",
       "           min_samples_leaf=1, min_samples_split=2,\n",
       "           min_weight_fraction_leaf=0.0, n_estimators=10, n_jobs=None,\n",
       "           oob_score=False, random_state=None, verbose=0, warm_start=False)"
      ]
     },
     "execution_count": 57,
     "metadata": {},
     "output_type": "execute_result"
    }
   ],
   "source": [
    "rfr = ensemble.RandomForestRegressor(n_estimators=10)\n",
    "rfr.fit(X_train, y_train)"
   ]
  },
  {
   "cell_type": "code",
   "execution_count": 58,
   "metadata": {},
   "outputs": [
    {
     "name": "stdout",
     "output_type": "stream",
     "text": [
      "0.6218263697231741\n",
      "0.6244900996345033\n"
     ]
    }
   ],
   "source": [
    "scores_SKB['Random Forest'] = [rfr.score(X_train, y_train)]\n",
    "\n",
    "print(rfr.score(X_train, y_train))\n",
    "print(rfr.score(X_test, y_test))"
   ]
  },
  {
   "cell_type": "markdown",
   "metadata": {},
   "source": [
    "Random forest with SKB was better than the other models with PCA and without PCA or SKB in that there appears to be no overfitting."
   ]
  },
  {
   "cell_type": "markdown",
   "metadata": {},
   "source": [
    "### Gradient Boosting with SKB ###"
   ]
  },
  {
   "cell_type": "code",
   "execution_count": 59,
   "metadata": {},
   "outputs": [
    {
     "data": {
      "text/plain": [
       "GradientBoostingRegressor(alpha=0.9, criterion='friedman_mse', init=None,\n",
       "             learning_rate=0.1, loss='ls', max_depth=2, max_features=None,\n",
       "             max_leaf_nodes=None, min_impurity_decrease=0.0,\n",
       "             min_impurity_split=None, min_samples_leaf=1,\n",
       "             min_samples_split=2, min_weight_fraction_leaf=0.0,\n",
       "             n_estimators=500, n_iter_no_change=None, presort='auto',\n",
       "             random_state=None, subsample=1.0, tol=0.0001,\n",
       "             validation_fraction=0.1, verbose=0, warm_start=False)"
      ]
     },
     "execution_count": 59,
     "metadata": {},
     "output_type": "execute_result"
    }
   ],
   "source": [
    "params = {'n_estimators': 500,\n",
    "          'max_depth': 2}\n",
    "reg = ensemble.GradientBoostingRegressor(**params)\n",
    "reg.fit(X_train, y_train)"
   ]
  },
  {
   "cell_type": "code",
   "execution_count": 60,
   "metadata": {},
   "outputs": [
    {
     "name": "stdout",
     "output_type": "stream",
     "text": [
      "0.6208498917895076\n",
      "0.6231522687228277\n"
     ]
    }
   ],
   "source": [
    "scores_SKB['Gradient Boosting'] = [reg.score(X_train, y_train)]\n",
    "\n",
    "print(reg.score(X_train, y_train))\n",
    "print(reg.score(X_test, y_test))"
   ]
  },
  {
   "cell_type": "markdown",
   "metadata": {},
   "source": [
    "Gradient boosting with SKB had a faster computational run time than the other models with PCA and without PCA or SKB, but similarly to the other SKB models the accuracy scores were not better than the models without SKB."
   ]
  },
  {
   "cell_type": "markdown",
   "metadata": {},
   "source": [
    "### Analysis ###"
   ]
  },
  {
   "cell_type": "code",
   "execution_count": 63,
   "metadata": {},
   "outputs": [
    {
     "name": "stdout",
     "output_type": "stream",
     "text": [
      "   Lasso Regression  Decision Tree  Random Forest  Gradient Boosting\n",
      "0          0.659729       0.677983       0.780628           0.663916\n",
      "1          0.660334       0.658716       0.641608           0.664029\n",
      "\n",
      "\n",
      "   Lasso Regression  Decision Tree  Random Forest  Gradient Boosting\n",
      "0          0.214275       0.556737       0.771337           0.381648\n",
      "\n",
      "\n",
      "   Lasso Regression  Decision Tree  Random Forest  Gradient Boosting\n",
      "0          0.621346       0.621828       0.621826            0.62085\n"
     ]
    }
   ],
   "source": [
    "print(scores)\n",
    "print(\"\\n\")\n",
    "print(scores_PCA)\n",
    "print(\"\\n\")\n",
    "print(scores_SKB)"
   ]
  },
  {
   "cell_type": "code",
   "execution_count": 138,
   "metadata": {},
   "outputs": [],
   "source": [
    "train = scores.values[0]\n",
    "test = scores.values[1]"
   ]
  },
  {
   "cell_type": "code",
   "execution_count": 109,
   "metadata": {},
   "outputs": [
    {
     "data": {
      "image/png": "[encoded data removed]",
      "text/plain": [
       "<Figure size 432x288 with 1 Axes>"
      ]
     },
     "metadata": {
      "needs_background": "light"
     },
     "output_type": "display_data"
    }
   ],
   "source": [
    "ind = np.arange(4)\n",
    "width = 0.35\n",
    "\n",
    "fig, ax = plt.subplots()\n",
    "rects1 = ax.bar(ind, train, width, color='r')\n",
    "rects2 = ax.bar(ind + width, test, width, color='b')\n",
    "\n",
    "ax.set_ylabel('Scores')\n",
    "ax.set_title('Scores by Model')\n",
    "ax.set_xticks(ind + width / 2)\n",
    "ax.set_xticklabels((scores.columns),rotation=45)\n",
    "ax.set_ylim(0,1)\n",
    "\n",
    "ax.legend((rects1[0], rects2[0]), ('Training Set', 'Test Set'))\n",
    "plt.show()"
   ]
  },
  {
   "cell_type": "code",
   "execution_count": 150,
   "metadata": {},
   "outputs": [
    {
     "data": {
      "image/png": "[encoded data removed]",
      "text/plain": [
       "<Figure size 1152x360 with 3 Axes>"
      ]
     },
     "metadata": {
      "needs_background": "light"
     },
     "output_type": "display_data"
    }
   ],
   "source": [
    "plt.figure(figsize=(16,5))\n",
    "\n",
    "plt.subplot(1,3,1)\n",
    "plt.bar(scores.columns,train)\n",
    "plt.xticks(rotation=45)\n",
    "plt.title('Scores of Standard Models')\n",
    "plt.ylim(0,1)\n",
    "\n",
    "plt.subplot(1,3,2)\n",
    "plt.bar(scores_PCA.columns,scores_PCA.values.flatten())\n",
    "plt.xticks(rotation=45)\n",
    "plt.title('Scores of Models with PCA')\n",
    "plt.ylim(0,1)\n",
    "\n",
    "plt.subplot(1,3,3)\n",
    "plt.bar(scores_SKB.columns,scores_SKB.values.flatten())\n",
    "plt.xticks(rotation=45)\n",
    "plt.title('Scores of Models with SKB')\n",
    "plt.ylim(0,1);"
   ]
  },
  {
   "cell_type": "markdown",
   "metadata": {},
   "source": [
    "* The standard Random Forest model performed the best accuracy-wise, however potentially overfitting.\n",
    "* The standard Gradient Boosting and Gradient Boosting with SKB models were the most consistent, however take a while to run."
   ]
  },
  {
   "cell_type": "markdown",
   "metadata": {},
   "source": [
    "### Conclusion ###\n",
    "\n",
    "In conclusion, Product Category was the most important feature for predicting how much money is spent by a customer. This makes sense as certain products will be more expensive than others such as electronics or furniture. This conclusion was consistent across all models including SKB."
   ]
  }
 ],
 "metadata": {
  "kernelspec": {
   "display_name": "Python 3",
   "language": "python",
   "name": "python3"
  },
  "language_info": {
   "codemirror_mode": {
    "name": "ipython",
    "version": 3
   },
   "file_extension": ".py",
   "mimetype": "text/x-python",
   "name": "python",
   "nbconvert_exporter": "python",
   "pygments_lexer": "ipython3",
   "version": "3.7.1"
  }
 },
 "nbformat": 4,
 "nbformat_minor": 2
}
